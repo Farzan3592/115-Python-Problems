{
 "cells": [
  {
   "cell_type": "markdown",
   "id": "cea98b20",
   "metadata": {},
   "source": [
    "# Math Operations"
   ]
  },
  {
   "cell_type": "code",
   "execution_count": 1,
   "id": "47255d61",
   "metadata": {},
   "outputs": [
    {
     "name": "stdout",
     "output_type": "stream",
     "text": [
      "Enter the first number: 12\n",
      "Enter the second number: 12\n",
      "Enter the operation (add, subtract, multiply, divide): add\n"
     ]
    },
    {
     "data": {
      "text/plain": [
       "24.0"
      ]
     },
     "execution_count": 1,
     "metadata": {},
     "output_type": "execute_result"
    }
   ],
   "source": [
    "def math_operations(num1, num2, operation):\n",
    "   \n",
    "    \n",
    "    if operation == 'add':\n",
    "        return num1 + num2\n",
    "    elif operation == 'subtract':\n",
    "        return num1 - num2\n",
    "    elif operation == 'multiply':\n",
    "        return num1 * num2\n",
    "    elif operation == 'divide':\n",
    "        if num2 != 0:\n",
    "            return num1 / num2\n",
    "        else:\n",
    "            return \"Cannot divide by zero\"\n",
    "\n",
    "# Take user input\n",
    "num1 = float(input(\"Enter the first number: \"))\n",
    "num2 = float(input(\"Enter the second number: \"))\n",
    "operation = input(\"Enter the operation (add, subtract, multiply, divide): \")\n",
    "\n",
    "# Output the result\n",
    "result = math_operations(num1, num2, operation)\n",
    "result"
   ]
  },
  {
   "cell_type": "markdown",
   "id": "82e1462a",
   "metadata": {},
   "source": [
    "# Greeting Generator"
   ]
  },
  {
   "cell_type": "code",
   "execution_count": 2,
   "id": "4db332f2",
   "metadata": {},
   "outputs": [
    {
     "name": "stdout",
     "output_type": "stream",
     "text": [
      "Enter your name: Mumtarin\n"
     ]
    },
    {
     "data": {
      "text/plain": [
       "'Hello, Mumtarin! How are you today?'"
      ]
     },
     "execution_count": 2,
     "metadata": {},
     "output_type": "execute_result"
    }
   ],
   "source": [
    "def greeting_generator(name):\n",
    "   \n",
    "    return f\"Hello, {name}! How are you today?\"\n",
    "\n",
    "# Take user input\n",
    "user_name = input(\"Enter your name: \")\n",
    "\n",
    "# Output the result\n",
    "greeting_message = greeting_generator(user_name)\n",
    "greeting_message"
   ]
  },
  {
   "cell_type": "markdown",
   "id": "8798621f",
   "metadata": {},
   "source": [
    "# Temperature Converter"
   ]
  },
  {
   "cell_type": "code",
   "execution_count": 3,
   "id": "cea4e5da",
   "metadata": {},
   "outputs": [
    {
     "name": "stdout",
     "output_type": "stream",
     "text": [
      "Enter the temperature value: 100\n",
      "Enter the scale (C for Celsius, F for Fahrenheit): C\n"
     ]
    },
    {
     "data": {
      "text/plain": [
       "37.77777777777778"
      ]
     },
     "execution_count": 3,
     "metadata": {},
     "output_type": "execute_result"
    }
   ],
   "source": [
    "def temperature_converter(value, scale):\n",
    "   \n",
    "    if scale.upper() == 'C':\n",
    "        return (value - 32) * 5 / 9\n",
    "    elif scale.upper() == 'F':\n",
    "        return (value * 9 / 5) + 32\n",
    "\n",
    "# Take user input\n",
    "temperature_value = float(input(\"Enter the temperature value: \"))\n",
    "temperature_scale = input(\"Enter the scale (C for Celsius, F for Fahrenheit): \")\n",
    "\n",
    "# Output the result\n",
    "converted_temperature = temperature_converter(temperature_value, temperature_scale)\n",
    "converted_temperature\n"
   ]
  },
  {
   "cell_type": "code",
   "execution_count": null,
   "id": "4a11b755",
   "metadata": {},
   "outputs": [],
   "source": []
  }
 ],
 "metadata": {
  "kernelspec": {
   "display_name": "Python 3 (ipykernel)",
   "language": "python",
   "name": "python3"
  },
  "language_info": {
   "codemirror_mode": {
    "name": "ipython",
    "version": 3
   },
   "file_extension": ".py",
   "mimetype": "text/x-python",
   "name": "python",
   "nbconvert_exporter": "python",
   "pygments_lexer": "ipython3",
   "version": "3.11.5"
  }
 },
 "nbformat": 4,
 "nbformat_minor": 5
}
