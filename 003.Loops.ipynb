{
 "cells": [
  {
   "cell_type": "markdown",
   "id": "18f1db3d",
   "metadata": {},
   "source": [
    "# Sum of N Numbers"
   ]
  },
  {
   "cell_type": "code",
   "execution_count": 1,
   "id": "1418395b",
   "metadata": {},
   "outputs": [
    {
     "name": "stdout",
     "output_type": "stream",
     "text": [
      "Enter the value of N: 3\n",
      "Sum of first 3 natural numbers is: 6\n"
     ]
    }
   ],
   "source": [
    "N = int(input(\"Enter the value of N: \"))\n",
    "sum_N = 0\n",
    "for i in range(1, N+1):\n",
    "    sum_N += i\n",
    "print(\"Sum of first\", N, \"natural numbers is:\", sum_N)"
   ]
  },
  {
   "cell_type": "markdown",
   "id": "775d0689",
   "metadata": {},
   "source": [
    "#  Factorial Calculator "
   ]
  },
  {
   "cell_type": "code",
   "execution_count": 2,
   "id": "4613b593",
   "metadata": {},
   "outputs": [
    {
     "name": "stdout",
     "output_type": "stream",
     "text": [
      "Enter the number: 5\n",
      "The factorial of 5 is 120\n"
     ]
    }
   ],
   "source": [
    "N = int(input(\"Enter the number: \"))\n",
    "factorial = 1\n",
    "i = 1\n",
    "while i <= N:\n",
    "    factorial *= i\n",
    "    i += 1\n",
    "print(\"The factorial of\", N, \"is\", factorial)"
   ]
  },
  {
   "cell_type": "markdown",
   "id": "27dd047a",
   "metadata": {},
   "source": [
    "#  Table of a Number"
   ]
  },
  {
   "cell_type": "code",
   "execution_count": 3,
   "id": "476026b7",
   "metadata": {},
   "outputs": [
    {
     "name": "stdout",
     "output_type": "stream",
     "text": [
      "Enter the number: 5\n",
      "5 x 1 = 5\n",
      "5 x 2 = 10\n",
      "5 x 3 = 15\n",
      "5 x 4 = 20\n",
      "5 x 5 = 25\n",
      "5 x 6 = 30\n",
      "5 x 7 = 35\n",
      "5 x 8 = 40\n",
      "5 x 9 = 45\n",
      "5 x 10 = 50\n"
     ]
    }
   ],
   "source": [
    "N = int(input(\"Enter the number: \"))\n",
    "for i in range(1, 11):\n",
    "    print(N, \"x\", i, \"=\", N*i)"
   ]
  },
  {
   "cell_type": "markdown",
   "id": "9cb1dfbb",
   "metadata": {},
   "source": [
    "#  Count Digits in a Number"
   ]
  },
  {
   "cell_type": "code",
   "execution_count": 4,
   "id": "52e4b9b4",
   "metadata": {},
   "outputs": [
    {
     "name": "stdout",
     "output_type": "stream",
     "text": [
      "Enter the number: 123\n",
      "Number of digits: 3\n"
     ]
    }
   ],
   "source": [
    "N = int(input(\"Enter the number: \"))\n",
    "count = 0\n",
    "while N != 0:\n",
    "    N //= 10\n",
    "    count+= 1\n",
    "print(\"Number of digits:\", count)"
   ]
  },
  {
   "cell_type": "markdown",
   "id": "3be78063",
   "metadata": {},
   "source": [
    "# Fibonacci Sequence"
   ]
  },
  {
   "cell_type": "code",
   "execution_count": 5,
   "id": "4988983c",
   "metadata": {},
   "outputs": [
    {
     "name": "stdout",
     "output_type": "stream",
     "text": [
      "Enter the limit: 7\n",
      "0 1 2 3 5 8 13 "
     ]
    }
   ],
   "source": [
    "N = int(input(\"Enter the limit: \"))\n",
    "a, b = 0, 1\n",
    "print(a, end=' ') \n",
    "for i in range(N-1):\n",
    "    c = a + b\n",
    "    print(c, end=' ')\n",
    "    a, b = b, c"
   ]
  },
  {
   "cell_type": "markdown",
   "id": "d5a6d794",
   "metadata": {},
   "source": [
    "# Sum of Even Numbers  "
   ]
  },
  {
   "cell_type": "code",
   "execution_count": 6,
   "id": "638ea403",
   "metadata": {},
   "outputs": [
    {
     "name": "stdout",
     "output_type": "stream",
     "text": [
      "Enter the limit: 10\n",
      "Sum of even numbers: 30\n"
     ]
    }
   ],
   "source": [
    "N = int(input(\"Enter the limit: \"))\n",
    "sum_even = 0\n",
    "i = 1\n",
    "while i<= N:\n",
    "    if i%2 == 0:\n",
    "        sum_even += i\n",
    "    i += 1\n",
    "print(\"Sum of even numbers:\", sum_even)"
   ]
  },
  {
   "cell_type": "markdown",
   "id": "661c91bc",
   "metadata": {},
   "source": [
    "# Print Patterns"
   ]
  },
  {
   "cell_type": "code",
   "execution_count": 7,
   "id": "744e5adf",
   "metadata": {},
   "outputs": [
    {
     "name": "stdout",
     "output_type": "stream",
     "text": [
      "Enter number of rows: 5\n",
      "*\n",
      "**\n",
      "***\n",
      "****\n",
      "*****\n",
      "Enter number of rows: 6\n",
      "******\n",
      "*****\n",
      "****\n",
      "***\n",
      "**\n",
      "*\n"
     ]
    }
   ],
   "source": [
    "# Right angled triangle\n",
    "N = int(input(\"Enter number of rows: \"))\n",
    "for i in range(1,N+1): \n",
    "    for j in range(1,i+1):\n",
    "        print(\"*\",end=\"\")\n",
    "    print()\n",
    "    \n",
    "# Inverted right angled triangle  \n",
    "N = int(input(\"Enter number of rows: \"))\n",
    "for i in range(N,0,-1):\n",
    "    for j in range(1,i+1):\n",
    "        print(\"*\",end=\"\") \n",
    "    print()"
   ]
  },
  {
   "cell_type": "markdown",
   "id": "d8b1cc5c",
   "metadata": {},
   "source": [
    "#  Prime Number Checker"
   ]
  },
  {
   "cell_type": "code",
   "execution_count": 8,
   "id": "49f38bbb",
   "metadata": {},
   "outputs": [
    {
     "name": "stdout",
     "output_type": "stream",
     "text": [
      "Enter the number: 12\n",
      "12 is not prime\n"
     ]
    }
   ],
   "source": [
    "N = int(input(\"Enter the number: \"))\n",
    "prime = True\n",
    "i = 2\n",
    "while i*i <= N:\n",
    "    if N%i == 0:\n",
    "        prime = False\n",
    "        break\n",
    "    i += 1\n",
    "if prime:\n",
    "  print(N,\"is prime\")\n",
    "else:\n",
    "  print(N,\"is not prime\")"
   ]
  },
  {
   "cell_type": "markdown",
   "id": "bb2e216f",
   "metadata": {},
   "source": [
    "# List Manipulation"
   ]
  },
  {
   "cell_type": "code",
   "execution_count": 9,
   "id": "e91a391b",
   "metadata": {},
   "outputs": [
    {
     "name": "stdout",
     "output_type": "stream",
     "text": [
      "How many elements you want to enter: 2\n",
      "Enter element: 12\n",
      "Enter element: 23\n",
      "Sum: 35\n",
      "Average: 17.5\n",
      "Maximum: 23\n",
      "Minimum: 12\n"
     ]
    }
   ],
   "source": [
    "integers = []\n",
    "n = int(input(\"How many elements you want to enter: \"))\n",
    "for i in range(n):\n",
    "    integers.append(int(input(\"Enter element: \")))\n",
    "print(\"Sum:\", sum(integers)) \n",
    "print(\"Average:\", sum(integers)/n)\n",
    "print(\"Maximum:\", max(integers))\n",
    "print(\"Minimum:\", min(integers))"
   ]
  },
  {
   "cell_type": "markdown",
   "id": "9f12167f",
   "metadata": {},
   "source": [
    "# Reverse String"
   ]
  },
  {
   "cell_type": "code",
   "execution_count": 10,
   "id": "90ce4afe",
   "metadata": {},
   "outputs": [
    {
     "name": "stdout",
     "output_type": "stream",
     "text": [
      "Enter the string: farz\n",
      "Reversed string is: zraf\n"
     ]
    }
   ],
   "source": [
    "my_str = input(\"Enter the string: \")\n",
    "rev_str = \"\"\n",
    "i = len(my_str) - 1\n",
    "while i >= 0:\n",
    "    rev_str += my_str[i]\n",
    "    i-=1\n",
    "print(\"Reversed string is:\", rev_str)"
   ]
  },
  {
   "cell_type": "code",
   "execution_count": null,
   "id": "ed3e9817",
   "metadata": {},
   "outputs": [],
   "source": []
  }
 ],
 "metadata": {
  "kernelspec": {
   "display_name": "Python 3 (ipykernel)",
   "language": "python",
   "name": "python3"
  },
  "language_info": {
   "codemirror_mode": {
    "name": "ipython",
    "version": 3
   },
   "file_extension": ".py",
   "mimetype": "text/x-python",
   "name": "python",
   "nbconvert_exporter": "python",
   "pygments_lexer": "ipython3",
   "version": "3.11.5"
  }
 },
 "nbformat": 4,
 "nbformat_minor": 5
}
