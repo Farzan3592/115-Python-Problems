{
 "cells": [
  {
   "cell_type": "markdown",
   "id": "7fc871d0",
   "metadata": {},
   "source": [
    "# List Sum"
   ]
  },
  {
   "cell_type": "code",
   "execution_count": 1,
   "id": "a91610f1",
   "metadata": {},
   "outputs": [
    {
     "name": "stdout",
     "output_type": "stream",
     "text": [
      "Enter a list of integers separated by space: 1 2 3 4 5\n",
      "Sum of the list elements: 15\n"
     ]
    }
   ],
   "source": [
    "# Taking user input for the list of integers\n",
    "numbers = [int(x) for x in input(\"Enter a list of integers separated by space: \").split()]\n",
    "\n",
    "# Calculating the sum of the list elements\n",
    "list_sum = sum(numbers)\n",
    "print(\"Sum of the list elements:\", list_sum)"
   ]
  },
  {
   "cell_type": "markdown",
   "id": "56b6bdd3",
   "metadata": {},
   "source": [
    "# List Average"
   ]
  },
  {
   "cell_type": "code",
   "execution_count": 2,
   "id": "22fc373d",
   "metadata": {},
   "outputs": [
    {
     "name": "stdout",
     "output_type": "stream",
     "text": [
      "Enter a list of integers separated by space: 1 2 3 4 5\n",
      "Average of the list elements: 3.0\n"
     ]
    }
   ],
   "source": [
    "# Taking user input for the list of integers\n",
    "numbers = [int(x) for x in input(\"Enter a list of integers separated by space: \").split()]\n",
    "\n",
    "# Calculating the average of the list elements\n",
    "list_average = sum(numbers) / len(numbers)\n",
    "print(\"Average of the list elements:\", list_average)"
   ]
  },
  {
   "cell_type": "markdown",
   "id": "36437351",
   "metadata": {},
   "source": [
    "# List Max and Min"
   ]
  },
  {
   "cell_type": "code",
   "execution_count": 3,
   "id": "35f0c896",
   "metadata": {},
   "outputs": [
    {
     "name": "stdout",
     "output_type": "stream",
     "text": [
      "Enter a list of integers separated by space: 1 4 3 11 12\n",
      "Maximum value: 12\n",
      "Minimum value: 1\n"
     ]
    }
   ],
   "source": [
    "# Taking user input for the list of integers\n",
    "numbers = [int(x) for x in input(\"Enter a list of integers separated by space: \").split()]\n",
    "\n",
    "# Finding the maximum and minimum values\n",
    "list_max = max(numbers)\n",
    "list_min = min(numbers)\n",
    "\n",
    "print(\"Maximum value:\", list_max)\n",
    "print(\"Minimum value:\", list_min)"
   ]
  },
  {
   "cell_type": "markdown",
   "id": "de30eba4",
   "metadata": {},
   "source": [
    "# List Sorting"
   ]
  },
  {
   "cell_type": "code",
   "execution_count": 4,
   "id": "41a86721",
   "metadata": {},
   "outputs": [
    {
     "name": "stdout",
     "output_type": "stream",
     "text": [
      "Enter a list of integers separated by space: 22 25 12 18 19\n",
      "Sorted list: [12, 18, 19, 22, 25]\n"
     ]
    }
   ],
   "source": [
    "# Taking user input for the list of integers\n",
    "numbers = [int(x) for x in input(\"Enter a list of integers separated by space: \").split()]\n",
    "\n",
    "# Sorting the list in ascending order\n",
    "sorted_list = sorted(numbers)\n",
    "print(\"Sorted list:\", sorted_list)"
   ]
  },
  {
   "cell_type": "markdown",
   "id": "1ef15593",
   "metadata": {},
   "source": [
    "# List Filtering"
   ]
  },
  {
   "cell_type": "code",
   "execution_count": 5,
   "id": "6dce4d39",
   "metadata": {},
   "outputs": [
    {
     "name": "stdout",
     "output_type": "stream",
     "text": [
      "Enter a list of integers separated by space: 1 2 4 5 6 8\n",
      "List of even numbers: [2, 4, 6, 8]\n"
     ]
    }
   ],
   "source": [
    "# Taking user input for the list of integers\n",
    "numbers = [int(x) for x in input(\"Enter a list of integers separated by space: \").split()]\n",
    "\n",
    "# Filtering even numbers\n",
    "even_numbers = [num for num in numbers if num % 2 == 0]\n",
    "print(\"List of even numbers:\", even_numbers)"
   ]
  },
  {
   "cell_type": "markdown",
   "id": "12ec2074",
   "metadata": {},
   "source": [
    "# List Reversal"
   ]
  },
  {
   "cell_type": "code",
   "execution_count": 6,
   "id": "28c4066d",
   "metadata": {},
   "outputs": [
    {
     "name": "stdout",
     "output_type": "stream",
     "text": [
      "Enter a list of integers separated by space: 1 2 3 4 5\n",
      "Reversed list: [5, 4, 3, 2, 1]\n"
     ]
    }
   ],
   "source": [
    "# Taking user input for the list of integers\n",
    "numbers = [int(x) for x in input(\"Enter a list of integers separated by space: \").split()]\n",
    "\n",
    "# Reversing the list without using built-in functions\n",
    "reversed_list = numbers[::-1]\n",
    "print(\"Reversed list:\", reversed_list)"
   ]
  },
  {
   "cell_type": "markdown",
   "id": "19611b24",
   "metadata": {},
   "source": [
    "# List Manipulation"
   ]
  },
  {
   "cell_type": "code",
   "execution_count": 7,
   "id": "213d100c",
   "metadata": {},
   "outputs": [
    {
     "name": "stdout",
     "output_type": "stream",
     "text": [
      "Enter the first list of integers separated by space: 1 2 3\n",
      "Enter the second list of integers separated by space: 2 4 3\n",
      "Common elements: [2, 3]\n"
     ]
    }
   ],
   "source": [
    "# Taking user input for the two lists of integers\n",
    "list1 = [int(x) for x in input(\"Enter the first list of integers separated by space: \").split()]\n",
    "list2 = [int(x) for x in input(\"Enter the second list of integers separated by space: \").split()]\n",
    "\n",
    "# Creating a new list with common elements\n",
    "common_elements = list(set(list1) & set(list2))\n",
    "print(\"Common elements:\", common_elements)"
   ]
  },
  {
   "cell_type": "markdown",
   "id": "0edfe0b6",
   "metadata": {},
   "source": [
    "# List Element Count"
   ]
  },
  {
   "cell_type": "code",
   "execution_count": 2,
   "id": "b60794cd",
   "metadata": {},
   "outputs": [
    {
     "name": "stdout",
     "output_type": "stream",
     "text": [
      "Enter a list of integers separated by space: 2 3 4 4 5\n",
      "Enter the element to count: 4\n",
      "Count of 4: 2\n"
     ]
    }
   ],
   "source": [
    "# Taking user input for the list of integers\n",
    "numbers = [int(x) for x in input(\"Enter a list of integers separated by space: \").split()]\n",
    "\n",
    "# Taking user input for the specific element to count\n",
    "element_to_count = int(input(\"Enter the element to count: \"))\n",
    "\n",
    "# Counting occurrences of the specific element\n",
    "element_count = numbers.count(element_to_count)\n",
    "print(f\"Count of {element_to_count}: {element_count}\")"
   ]
  },
  {
   "cell_type": "markdown",
   "id": "f62afcce",
   "metadata": {},
   "source": [
    "# List Duplicates Removal"
   ]
  },
  {
   "cell_type": "code",
   "execution_count": 3,
   "id": "43e4e1f3",
   "metadata": {},
   "outputs": [
    {
     "name": "stdout",
     "output_type": "stream",
     "text": [
      "Enter a list of integers separated by space: 3 1 3 4 5 5 6\n",
      "List with duplicates removed: [3, 1, 4, 5, 6]\n"
     ]
    }
   ],
   "source": [
    "# Taking user input for the list of integers\n",
    "numbers = [int(x) for x in input(\"Enter a list of integers separated by space: \").split()]\n",
    "\n",
    "# Removing duplicates while preserving the order\n",
    "unique_list = []\n",
    "for num in numbers:\n",
    "    if num not in unique_list:\n",
    "        unique_list.append(num)\n",
    "\n",
    "print(\"List with duplicates removed:\", unique_list)"
   ]
  },
  {
   "cell_type": "markdown",
   "id": "4b24c8ce",
   "metadata": {},
   "source": [
    "#  List Comprehension"
   ]
  },
  {
   "cell_type": "code",
   "execution_count": 4,
   "id": "0ed72e51",
   "metadata": {},
   "outputs": [
    {
     "name": "stdout",
     "output_type": "stream",
     "text": [
      "Enter a list of integers separated by space: 1 2 3 4 5\n",
      "List of squares: [1, 4, 9, 16, 25]\n"
     ]
    }
   ],
   "source": [
    "# Taking user input for the list of integers\n",
    "numbers = [int(x) for x in input(\"Enter a list of integers separated by space: \").split()]\n",
    "\n",
    "# Using list comprehension to create a new list of squares\n",
    "squares = [num ** 2 for num in numbers]\n",
    "print(\"List of squares:\", squares)"
   ]
  },
  {
   "cell_type": "code",
   "execution_count": null,
   "id": "f25e2f14",
   "metadata": {},
   "outputs": [],
   "source": []
  }
 ],
 "metadata": {
  "kernelspec": {
   "display_name": "Python 3 (ipykernel)",
   "language": "python",
   "name": "python3"
  },
  "language_info": {
   "codemirror_mode": {
    "name": "ipython",
    "version": 3
   },
   "file_extension": ".py",
   "mimetype": "text/x-python",
   "name": "python",
   "nbconvert_exporter": "python",
   "pygments_lexer": "ipython3",
   "version": "3.11.5"
  }
 },
 "nbformat": 4,
 "nbformat_minor": 5
}
