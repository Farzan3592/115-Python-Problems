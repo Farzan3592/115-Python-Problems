{
 "cells": [
  {
   "cell_type": "markdown",
   "id": "2b841219",
   "metadata": {},
   "source": [
    "# Prime Number Checker"
   ]
  },
  {
   "cell_type": "code",
   "execution_count": 1,
   "id": "1625ee4d",
   "metadata": {},
   "outputs": [
    {
     "name": "stdout",
     "output_type": "stream",
     "text": [
      "Enter a number: 12\n",
      "12 is not a prime number.\n"
     ]
    }
   ],
   "source": [
    "# Taking user input for a number\n",
    "number = int(input(\"Enter a number: \"))\n",
    "\n",
    "# Checking if the number is prime\n",
    "for i in range(2, number):\n",
    "    if number % i == 0:\n",
    "        print(f\"{number} is not a prime number.\")\n",
    "        break\n",
    "else:\n",
    "    print(f\"{number} is a prime number.\")"
   ]
  },
  {
   "cell_type": "markdown",
   "id": "0f2d114d",
   "metadata": {},
   "source": [
    "# Even Number Printer"
   ]
  },
  {
   "cell_type": "code",
   "execution_count": 2,
   "id": "0d932593",
   "metadata": {},
   "outputs": [
    {
     "name": "stdout",
     "output_type": "stream",
     "text": [
      "2\n",
      "4\n",
      "6\n",
      "8\n",
      "10\n",
      "12\n",
      "14\n",
      "16\n",
      "18\n",
      "20\n"
     ]
    }
   ],
   "source": [
    "# Printing all even numbers from 1 to 20\n",
    "for num in range(1, 21):\n",
    "    if num % 2 != 0:\n",
    "        continue\n",
    "    print(num)"
   ]
  },
  {
   "cell_type": "markdown",
   "id": "25bb6811",
   "metadata": {},
   "source": [
    "# Password Validator"
   ]
  },
  {
   "cell_type": "code",
   "execution_count": 3,
   "id": "ac84b41e",
   "metadata": {},
   "outputs": [
    {
     "name": "stdout",
     "output_type": "stream",
     "text": [
      "Enter a password: farzan123\n",
      "Invalid password. Please enter a valid password.\n",
      "Enter a password: FarZan123\n",
      "Password accepted.\n"
     ]
    }
   ],
   "source": [
    "# Taking user input for a password\n",
    "password = input(\"Enter a password: \")\n",
    "\n",
    "# Checking password criteria\n",
    "while True:\n",
    "    if len(password) < 8 or not any(char.isupper() for char in password) or not any(char.islower() for char in password) or not any(char.isdigit() for char in password):\n",
    "        print(\"Invalid password. Please enter a valid password.\")\n",
    "        password = input(\"Enter a password: \")\n",
    "        continue\n",
    "    print(\"Password accepted.\")\n",
    "    break"
   ]
  },
  {
   "cell_type": "markdown",
   "id": "e7c61437",
   "metadata": {},
   "source": [
    "# Divisible by 3 or 5"
   ]
  },
  {
   "cell_type": "code",
   "execution_count": 4,
   "id": "76439fb0",
   "metadata": {},
   "outputs": [
    {
     "name": "stdout",
     "output_type": "stream",
     "text": [
      "3\n",
      "5\n",
      "6\n",
      "9\n",
      "10\n",
      "12\n",
      "15\n",
      "18\n",
      "20\n",
      "21\n",
      "24\n",
      "25\n",
      "27\n",
      "30\n",
      "33\n",
      "35\n",
      "36\n",
      "39\n",
      "40\n",
      "42\n",
      "45\n",
      "48\n",
      "50\n"
     ]
    }
   ],
   "source": [
    "# Printing numbers divisible by 3 or 5 from 1 to 50\n",
    "for num in range(1, 51):\n",
    "    if num % 3 != 0 and num % 5 != 0:\n",
    "        continue\n",
    "    print(num)"
   ]
  },
  {
   "cell_type": "markdown",
   "id": "b4bbbb42",
   "metadata": {},
   "source": [
    "# Positive Number Sum"
   ]
  },
  {
   "cell_type": "code",
   "execution_count": 1,
   "id": "cef96af3",
   "metadata": {},
   "outputs": [
    {
     "name": "stdout",
     "output_type": "stream",
     "text": [
      "Enter a positive number (enter a negative number to stop): 1\n",
      "Enter a positive number (enter a negative number to stop): 10\n",
      "Enter a positive number (enter a negative number to stop): -5\n",
      "Sum of positive numbers: 11\n"
     ]
    }
   ],
   "source": [
    "# Calculating the sum of positive numbers until a negative number is entered\n",
    "total_sum = 0\n",
    "while True:\n",
    "    num = int(input(\"Enter a positive number (enter a negative number to stop): \"))\n",
    "    if num < 0:\n",
    "        break\n",
    "    total_sum += num\n",
    "\n",
    "print(f\"Sum of positive numbers: {total_sum}\")"
   ]
  },
  {
   "cell_type": "markdown",
   "id": "d3d73960",
   "metadata": {},
   "source": [
    "# Word Palindrome Checker"
   ]
  },
  {
   "cell_type": "code",
   "execution_count": 2,
   "id": "75d84e73",
   "metadata": {},
   "outputs": [
    {
     "name": "stdout",
     "output_type": "stream",
     "text": [
      "Enter a word: madam\n",
      "The word is a palindrome.\n"
     ]
    }
   ],
   "source": [
    "# Taking user input for a word\n",
    "word = input(\"Enter a word: \")\n",
    "\n",
    "# Checking if the word is a palindrome\n",
    "if len(word) < 3:\n",
    "    print(\"Word is too short. Enter a word with at least 3 characters.\")\n",
    "else:\n",
    "    reversed_word = word[::-1]\n",
    "    if word == reversed_word:\n",
    "        print(\"The word is a palindrome.\")\n",
    "    else:\n",
    "        print(\"The word is not a palindrome.\")"
   ]
  },
  {
   "cell_type": "markdown",
   "id": "21c8fabe",
   "metadata": {},
   "source": [
    "# Odd Number Finder"
   ]
  },
  {
   "cell_type": "code",
   "execution_count": 3,
   "id": "aace984f",
   "metadata": {},
   "outputs": [
    {
     "name": "stdout",
     "output_type": "stream",
     "text": [
      "The first odd number is: 7\n"
     ]
    }
   ],
   "source": [
    "# Given list of integers\n",
    "num_list = [2, 4, 6, 8, 7, 10, 12]\n",
    "\n",
    "# Finding the first odd number\n",
    "for num in num_list:\n",
    "    if num % 2 != 0:\n",
    "        print(f\"The first odd number is: {num}\")\n",
    "        break"
   ]
  },
  {
   "cell_type": "markdown",
   "id": "9ee30987",
   "metadata": {},
   "source": [
    "# Number Guessing Game"
   ]
  },
  {
   "cell_type": "code",
   "execution_count": null,
   "id": "49688c46",
   "metadata": {},
   "outputs": [
    {
     "name": "stdout",
     "output_type": "stream",
     "text": [
      "Guess the number between 1 and 100: 12\n",
      "Incorrect guess. Try again.\n",
      "Guess the number between 1 and 100: 23\n",
      "Incorrect guess. Try again.\n",
      "Guess the number between 1 and 100: 56\n",
      "Incorrect guess. Try again.\n",
      "Guess the number between 1 and 100: 87\n",
      "Incorrect guess. Try again.\n",
      "Guess the number between 1 and 100: 91\n",
      "Incorrect guess. Try again.\n",
      "Guess the number between 1 and 100: 17\n",
      "Incorrect guess. Try again.\n",
      "Guess the number between 1 and 100: 50\n",
      "Incorrect guess. Try again.\n",
      "Guess the number between 1 and 100: 53\n",
      "Incorrect guess. Try again.\n"
     ]
    }
   ],
   "source": [
    "import random\n",
    "\n",
    "# Generating a random number between 1 and 100\n",
    "target_number = random.randint(1, 100)\n",
    "\n",
    "while True:\n",
    "    # Taking user input for a guess\n",
    "    guess = int(input(\"Guess the number between 1 and 100: \"))\n",
    "    \n",
    "    if guess == target_number:\n",
    "        print(\"Congratulations! You guessed the correct number.\")\n",
    "        break\n",
    "    else:\n",
    "        print(\"Incorrect guess. Try again.\")\n",
    "        continue"
   ]
  },
  {
   "cell_type": "markdown",
   "id": "af23fdf6",
   "metadata": {},
   "source": [
    "# Vowel Counter"
   ]
  },
  {
   "cell_type": "code",
   "execution_count": 1,
   "id": "60fdaecb",
   "metadata": {},
   "outputs": [
    {
     "name": "stdout",
     "output_type": "stream",
     "text": [
      "Enter a string: farzan\n",
      "Number of vowels in the string: 2\n"
     ]
    }
   ],
   "source": [
    "# Taking user input for a string\n",
    "input_string = input(\"Enter a string: \")\n",
    "\n",
    "# Counting the number of vowels in the string\n",
    "vowel_count = 0\n",
    "for char in input_string:\n",
    "    if char.lower() in \"aeiou\":\n",
    "        vowel_count += 1\n",
    "\n",
    "print(f\"Number of vowels in the string: {vowel_count}\")"
   ]
  },
  {
   "cell_type": "markdown",
   "id": "4f2731c3",
   "metadata": {},
   "source": [
    "# Unique Characters"
   ]
  },
  {
   "cell_type": "code",
   "execution_count": 2,
   "id": "25a6e58a",
   "metadata": {},
   "outputs": [
    {
     "name": "stdout",
     "output_type": "stream",
     "text": [
      "Enter a string: farzan\n",
      "String does not contain all unique characters.\n"
     ]
    }
   ],
   "source": [
    "# Taking user input for a string\n",
    "input_string = input(\"Enter a string: \")\n",
    "\n",
    "# Checking for unique characters in the string\n",
    "for char in input_string:\n",
    "    if input_string.count(char) > 1:\n",
    "        print(\"String does not contain all unique characters.\")\n",
    "        break\n",
    "else:\n",
    "    print(\"String contains all unique characters.\")"
   ]
  },
  {
   "cell_type": "code",
   "execution_count": null,
   "id": "a5ae1941",
   "metadata": {},
   "outputs": [],
   "source": []
  }
 ],
 "metadata": {
  "kernelspec": {
   "display_name": "Python 3 (ipykernel)",
   "language": "python",
   "name": "python3"
  },
  "language_info": {
   "codemirror_mode": {
    "name": "ipython",
    "version": 3
   },
   "file_extension": ".py",
   "mimetype": "text/x-python",
   "name": "python",
   "nbconvert_exporter": "python",
   "pygments_lexer": "ipython3",
   "version": "3.11.5"
  }
 },
 "nbformat": 4,
 "nbformat_minor": 5
}
