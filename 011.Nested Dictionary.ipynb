{
 "cells": [
  {
   "cell_type": "markdown",
   "id": "5ef21b30",
   "metadata": {},
   "source": [
    " # Access Nested Dictionary"
   ]
  },
  {
   "cell_type": "code",
   "execution_count": 1,
   "id": "496c00c7",
   "metadata": {},
   "outputs": [
    {
     "name": "stdout",
     "output_type": "stream",
     "text": [
      "Enter a nested dictionary of student details: {'s1': {'name': 'Anim', 'age': 25, 'address': 'Gulshan'}, 's2': {'name': 'Farzan', 'age': 30, 'address': 'Uttara'}}\n",
      "Enter a student ID to access: s1\n",
      "Name: Anim, Age: 25, Address: Gulshan\n"
     ]
    }
   ],
   "source": [
    "def access_nested_dictionary(input_dict, student_id):\n",
    "\n",
    "    if student_id in input_dict:\n",
    "        student_details = input_dict[student_id]\n",
    "        print(f\"Name: {student_details['name']}, Age: {student_details['age']}, Address: {student_details['address']}\")\n",
    "    else:\n",
    "        print(\"Student ID not found\")\n",
    "\n",
    "# Take user input\n",
    "user_nested_dict_input = input(\"Enter a nested dictionary of student details: \")\n",
    "user_nested_dict = eval(user_nested_dict_input)\n",
    "user_student_id = input(\"Enter a student ID to access: \")\n",
    "\n",
    "# Output the result\n",
    "access_nested_dict_result = access_nested_dictionary(user_nested_dict, user_student_id)"
   ]
  },
  {
   "cell_type": "markdown",
   "id": "f1077568",
   "metadata": {},
   "source": [
    "# Nested Dictionary Length"
   ]
  },
  {
   "cell_type": "code",
   "execution_count": 2,
   "id": "fca7b312",
   "metadata": {},
   "outputs": [
    {
     "name": "stdout",
     "output_type": "stream",
     "text": [
      "Enter a nested dictionary: {'s1': {'subject1': 80, 'subject2': 90}, 's2': {'subject1': 75, 'subject2': 85}}\n"
     ]
    },
    {
     "data": {
      "text/plain": [
       "4"
      ]
     },
     "execution_count": 2,
     "metadata": {},
     "output_type": "execute_result"
    }
   ],
   "source": [
    "def nested_dict_length(input_dict):\n",
    "\n",
    "    total_length = sum(len(value) for value in input_dict.values())\n",
    "    return total_length\n",
    "\n",
    "# Take user input\n",
    "user_nested_dict_length_input = input(\"Enter a nested dictionary: \")\n",
    "user_nested_dict_length = eval(user_nested_dict_length_input)\n",
    "\n",
    "# Output the result\n",
    "nested_dict_length_result = nested_dict_length(user_nested_dict_length)\n",
    "nested_dict_length_result"
   ]
  },
  {
   "cell_type": "markdown",
   "id": "87074ce1",
   "metadata": {},
   "source": [
    "# Nested Dictionary Update"
   ]
  },
  {
   "cell_type": "code",
   "execution_count": 3,
   "id": "d7dd9ae3",
   "metadata": {},
   "outputs": [
    {
     "name": "stdout",
     "output_type": "stream",
     "text": [
      "Enter a nested dictionary of employee details: {'e1': {'name': 'Anim', 'salary': 50000}, 'e2': {'name': 'Farzan', 'salary': 60000}}\n",
      "Enter an employee ID to update: e2\n",
      "Enter the new salary: 70000\n"
     ]
    }
   ],
   "source": [
    "def update_nested_dictionary(input_dict, employee_id, new_salary):\n",
    " \n",
    "    if employee_id in input_dict:\n",
    "        input_dict[employee_id]['salary'] = new_salary\n",
    "    else:\n",
    "        print(\"Employee ID not found\")\n",
    "\n",
    "# Take user input\n",
    "user_nested_dict_update_input = input(\"Enter a nested dictionary of employee details: \")\n",
    "user_nested_dict_update = eval(user_nested_dict_update_input)\n",
    "user_employee_id_update = input(\"Enter an employee ID to update: \")\n",
    "user_new_salary = float(input(\"Enter the new salary: \"))\n",
    "\n",
    "# Output the result\n",
    "updated_nested_dict_result = update_nested_dictionary(user_nested_dict_update, user_employee_id_update, user_new_salary)\n",
    "updated_nested_dict_result"
   ]
  },
  {
   "cell_type": "markdown",
   "id": "a6fd0e51",
   "metadata": {},
   "source": [
    "# Nested Dictionary Sorting"
   ]
  },
  {
   "cell_type": "code",
   "execution_count": 1,
   "id": "d9758265",
   "metadata": {},
   "outputs": [
    {
     "name": "stdout",
     "output_type": "stream",
     "text": [
      "Sorted products based on prices: {'product3': {'name': 'Tablet', 'price': 300, 'quantity': 10}, 'product2': {'name': 'Phone', 'price': 500, 'quantity': 8}, 'product1': {'name': 'Laptop', 'price': 800, 'quantity': 5}}\n"
     ]
    }
   ],
   "source": [
    "# Given nested dictionary containing product details\n",
    "products = {\n",
    "    'product1': {'name': 'Laptop', 'price': 800, 'quantity': 5},\n",
    "    'product2': {'name': 'Phone', 'price': 500, 'quantity': 8},\n",
    "    'product3': {'name': 'Tablet', 'price': 300, 'quantity': 10}\n",
    "}\n",
    "\n",
    "# Sorting the products based on prices in ascending order\n",
    "sorted_products = {key: value for key, value in sorted(products.items(), key=lambda item: item[1]['price'])}\n",
    "\n",
    "print(\"Sorted products based on prices:\", sorted_products)"
   ]
  },
  {
   "cell_type": "markdown",
   "id": "bd8a9507",
   "metadata": {},
   "source": [
    "# Nested Dictionary Key Search"
   ]
  },
  {
   "cell_type": "code",
   "execution_count": 4,
   "id": "11be02ba",
   "metadata": {},
   "outputs": [
    {
     "name": "stdout",
     "output_type": "stream",
     "text": [
      "Enter the key to search: item2\n",
      "Value for key item2: 5\n"
     ]
    }
   ],
   "source": [
    "nested_dict = {\n",
    "    'category1': {'item1': 10, 'item2': 5, 'item3': 8},\n",
    "    'category2': {'item4': 12, 'item5': 6}\n",
    "}\n",
    "\n",
    "# Taking user input for the key to search\n",
    "search_key = input(\"Enter the key to search: \")\n",
    "\n",
    "# Searching for the key in the nested dictionary\n",
    "found_value = next((value for subdict in nested_dict.values() if (value := subdict.get(search_key)) is not None), None)\n",
    "\n",
    "if found_value is not None:\n",
    "    print(f\"Value for key {search_key}: {found_value}\")\n",
    "else:\n",
    "    print(\"Key Not Found\")"
   ]
  },
  {
   "cell_type": "code",
   "execution_count": null,
   "id": "6bb10d74",
   "metadata": {},
   "outputs": [],
   "source": []
  }
 ],
 "metadata": {
  "kernelspec": {
   "display_name": "Python 3 (ipykernel)",
   "language": "python",
   "name": "python3"
  },
  "language_info": {
   "codemirror_mode": {
    "name": "ipython",
    "version": 3
   },
   "file_extension": ".py",
   "mimetype": "text/x-python",
   "name": "python",
   "nbconvert_exporter": "python",
   "pygments_lexer": "ipython3",
   "version": "3.11.5"
  }
 },
 "nbformat": 4,
 "nbformat_minor": 5
}
