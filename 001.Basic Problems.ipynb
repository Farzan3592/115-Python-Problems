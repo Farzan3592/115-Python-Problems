{
 "cells": [
  {
   "cell_type": "markdown",
   "id": "c1d5b109",
   "metadata": {},
   "source": [
    "# Variable Swap"
   ]
  },
  {
   "cell_type": "code",
   "execution_count": 1,
   "id": "2b6db07f",
   "metadata": {},
   "outputs": [
    {
     "name": "stdout",
     "output_type": "stream",
     "text": [
      "Enter the value for x: 12\n",
      "Enter the value for y: 23\n",
      "After swapping: x = 23 y = 12\n"
     ]
    }
   ],
   "source": [
    "x = int(input(\"Enter the value for x: \"))\n",
    "y = int(input(\"Enter the value for y: \"))\n",
    "x, y = y, x\n",
    "print(\"After swapping: x =\", x, \"y =\", y)"
   ]
  },
  {
   "cell_type": "markdown",
   "id": "41cec56c",
   "metadata": {},
   "source": [
    "# Even or Odd"
   ]
  },
  {
   "cell_type": "code",
   "execution_count": 2,
   "id": "3b37045b",
   "metadata": {},
   "outputs": [
    {
     "name": "stdout",
     "output_type": "stream",
     "text": [
      "Enter an integer: 12\n",
      "The number is even.\n"
     ]
    }
   ],
   "source": [
    "num = int(input(\"Enter an integer: \"))\n",
    "if num % 2 == 0:\n",
    "    print(\"The number is even.\")\n",
    "else:\n",
    "    print(\"The number is odd.\")"
   ]
  },
  {
   "cell_type": "markdown",
   "id": "164b8535",
   "metadata": {},
   "source": [
    "# String Reverse"
   ]
  },
  {
   "cell_type": "code",
   "execution_count": 3,
   "id": "8edaf200",
   "metadata": {},
   "outputs": [
    {
     "name": "stdout",
     "output_type": "stream",
     "text": [
      "Enter a string to reverse: string\n",
      "Reversed String: gnirts\n"
     ]
    }
   ],
   "source": [
    "def reverse_string(input_str):\n",
    "    return input_str[::-1]\n",
    "\n",
    "user_string = input(\"Enter a string to reverse: \")\n",
    "reversed_string = reverse_string(user_string)\n",
    "print(\"Reversed String:\", reversed_string)"
   ]
  },
  {
   "cell_type": "markdown",
   "id": "491e4dd8",
   "metadata": {},
   "source": [
    "# Type Conversion"
   ]
  },
  {
   "cell_type": "code",
   "execution_count": 9,
   "id": "885bf75f",
   "metadata": {},
   "outputs": [
    {
     "name": "stdout",
     "output_type": "stream",
     "text": [
      "Enter space-separated integers: 1 22 33 44 55\n",
      "Original List (integers): [1, 22, 33, 44, 55]\n",
      "Converted List (strings): ['1', '22', '33', '44', '55']\n"
     ]
    }
   ],
   "source": [
    "user_input = input(\"Enter space-separated integers: \")\n",
    "int_list = [int(num) for num in user_input.split()]\n",
    "\n",
    "str_list = list(map(str, int_list))\n",
    "print(\"Original List (integers):\", int_list)\n",
    "print(\"Converted List (strings):\", str_list)"
   ]
  },
  {
   "cell_type": "markdown",
   "id": "a5ecf823",
   "metadata": {},
   "source": [
    "# Temperature Converter"
   ]
  },
  {
   "cell_type": "code",
   "execution_count": 10,
   "id": "3991e97f",
   "metadata": {},
   "outputs": [
    {
     "name": "stdout",
     "output_type": "stream",
     "text": [
      "Enter temperature in Celsius: 37\n",
      "Temperature in Fahrenheit: 98.6\n"
     ]
    }
   ],
   "source": [
    "celsius_temp = float(input(\"Enter temperature in Celsius: \"))\n",
    "fahrenheit_temp = (celsius_temp * 9/5) + 32\n",
    "print(\"Temperature in Fahrenheit:\", fahrenheit_temp)"
   ]
  },
  {
   "cell_type": "markdown",
   "id": "fc2d5232",
   "metadata": {},
   "source": [
    "# Data Type Checker"
   ]
  },
  {
   "cell_type": "code",
   "execution_count": 11,
   "id": "c53169f4",
   "metadata": {},
   "outputs": [
    {
     "name": "stdout",
     "output_type": "stream",
     "text": [
      "Enter a variable: 12\n",
      "Data Type: int\n"
     ]
    }
   ],
   "source": [
    "def get_data_type(variable):\n",
    "    return str(type(variable).__name__)\n",
    "\n",
    "user_variable = eval(input(\"Enter a variable: \")) \n",
    "data_type = get_data_type(user_variable)\n",
    "print(\"Data Type:\", data_type)"
   ]
  },
  {
   "cell_type": "markdown",
   "id": "2526fd5b",
   "metadata": {},
   "source": [
    "# String Palindrome"
   ]
  },
  {
   "cell_type": "code",
   "execution_count": 13,
   "id": "85223529",
   "metadata": {},
   "outputs": [
    {
     "name": "stdout",
     "output_type": "stream",
     "text": [
      "Enter a string to check for palindrome: madam\n",
      "The string is a palindrome.\n"
     ]
    }
   ],
   "source": [
    "def is_palindrome(s):\n",
    "    return s == s[::-1]\n",
    "\n",
    "user_input = input(\"Enter a string to check for palindrome: \")\n",
    "if is_palindrome(user_input):\n",
    "    print(\"The string is a palindrome.\")\n",
    "else:\n",
    "    print(\"The string is not a palindrome.\")"
   ]
  },
  {
   "cell_type": "markdown",
   "id": "435e5e6d",
   "metadata": {},
   "source": [
    "# String Reversal with Slicing"
   ]
  },
  {
   "cell_type": "code",
   "execution_count": 14,
   "id": "c4855f46",
   "metadata": {},
   "outputs": [
    {
     "name": "stdout",
     "output_type": "stream",
     "text": [
      "Enter a string to reverse using slicing: str ing\n",
      "Reversed String: gni rts\n"
     ]
    }
   ],
   "source": [
    "def reverse_string_slicing(input_str):\n",
    "    return input_str[::-1]\n",
    "\n",
    "user_str = input(\"Enter a string to reverse using slicing: \")\n",
    "reversed_str = reverse_string_slicing(user_str)\n",
    "print(\"Reversed String:\", reversed_str)"
   ]
  },
  {
   "cell_type": "markdown",
   "id": "57edc10e",
   "metadata": {},
   "source": [
    "#  String Concatenation"
   ]
  },
  {
   "cell_type": "code",
   "execution_count": 15,
   "id": "ba3e89a9",
   "metadata": {},
   "outputs": [
    {
     "name": "stdout",
     "output_type": "stream",
     "text": [
      "Enter the first string: st\n",
      "Enter the second string: ring\n",
      "Concatenated String: string\n"
     ]
    }
   ],
   "source": [
    "str1 = input(\"Enter the first string: \")\n",
    "str2 = input(\"Enter the second string: \")\n",
    "concatenated_str = ''.join([str1, str2])\n",
    "print(\"Concatenated String:\", concatenated_str)"
   ]
  },
  {
   "cell_type": "markdown",
   "id": "0c1eeac0",
   "metadata": {},
   "source": [
    "# Typecasting Challenge"
   ]
  },
  {
   "cell_type": "code",
   "execution_count": 16,
   "id": "f8fae11b",
   "metadata": {},
   "outputs": [
    {
     "name": "stdout",
     "output_type": "stream",
     "text": [
      "114.5 is the answer.\n"
     ]
    }
   ],
   "source": [
    "a = '100'\n",
    "b = 25\n",
    "c = '10.5'\n",
    "\n",
    "result = int(a) + b\n",
    "result -= float(c)\n",
    "final_result = str(result) + \" is the answer.\"\n",
    "print(final_result)"
   ]
  },
  {
   "cell_type": "code",
   "execution_count": null,
   "id": "1e5f74ec",
   "metadata": {},
   "outputs": [],
   "source": []
  }
 ],
 "metadata": {
  "kernelspec": {
   "display_name": "Python 3 (ipykernel)",
   "language": "python",
   "name": "python3"
  },
  "language_info": {
   "codemirror_mode": {
    "name": "ipython",
    "version": 3
   },
   "file_extension": ".py",
   "mimetype": "text/x-python",
   "name": "python",
   "nbconvert_exporter": "python",
   "pygments_lexer": "ipython3",
   "version": "3.11.5"
  }
 },
 "nbformat": 4,
 "nbformat_minor": 5
}
