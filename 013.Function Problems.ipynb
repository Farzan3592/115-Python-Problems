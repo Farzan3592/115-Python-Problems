{
 "cells": [
  {
   "cell_type": "markdown",
   "id": "1e75ffbc",
   "metadata": {},
   "source": [
    "# Factorial Calculator"
   ]
  },
  {
   "cell_type": "code",
   "execution_count": 1,
   "id": "a4c5e139",
   "metadata": {},
   "outputs": [
    {
     "name": "stdout",
     "output_type": "stream",
     "text": [
      "Enter a non-negative integer: 12\n"
     ]
    },
    {
     "data": {
      "text/plain": [
       "479001600"
      ]
     },
     "execution_count": 1,
     "metadata": {},
     "output_type": "execute_result"
    }
   ],
   "source": [
    "def factorial(num):\n",
    "   \n",
    "    result = 1\n",
    "    for i in range(1, num + 1):\n",
    "        result *= i\n",
    "    return result\n",
    "\n",
    "# Take user input\n",
    "user_num_factorial = int(input(\"Enter a non-negative integer: \"))\n",
    "\n",
    "# Output the result\n",
    "factorial_result = factorial(user_num_factorial)\n",
    "factorial_result\n"
   ]
  },
  {
   "cell_type": "markdown",
   "id": "31d823c6",
   "metadata": {},
   "source": [
    "# Palindrome Checker"
   ]
  },
  {
   "cell_type": "code",
   "execution_count": 2,
   "id": "246c2cbe",
   "metadata": {},
   "outputs": [
    {
     "name": "stdout",
     "output_type": "stream",
     "text": [
      "Enter a word: farzan\n"
     ]
    },
    {
     "data": {
      "text/plain": [
       "False"
      ]
     },
     "execution_count": 2,
     "metadata": {},
     "output_type": "execute_result"
    }
   ],
   "source": [
    "def is_palindrome(word):\n",
    "  \n",
    "\n",
    "    return word == word[::-1]\n",
    "\n",
    "# Take user input\n",
    "user_word = input(\"Enter a word: \")\n",
    "\n",
    "# Output the result\n",
    "is_palindrome_result = is_palindrome(user_word)\n",
    "is_palindrome_result\n"
   ]
  },
  {
   "cell_type": "markdown",
   "id": "29c17558",
   "metadata": {},
   "source": [
    "# Even or Odd Checker"
   ]
  },
  {
   "cell_type": "code",
   "execution_count": 1,
   "id": "1bd5d896",
   "metadata": {},
   "outputs": [
    {
     "name": "stdout",
     "output_type": "stream",
     "text": [
      "Enter an integer: 12\n"
     ]
    },
    {
     "data": {
      "text/plain": [
       "'Even'"
      ]
     },
     "execution_count": 1,
     "metadata": {},
     "output_type": "execute_result"
    }
   ],
   "source": [
    "def even_or_odd(num):\n",
    "    \n",
    "    return \"Even\" if num % 2 == 0 else \"Odd\"\n",
    "\n",
    "# Take user input\n",
    "user_num_even_odd = int(input(\"Enter an integer: \"))\n",
    "\n",
    "# Output the result\n",
    "even_odd_result = even_or_odd(user_num_even_odd)\n",
    "even_odd_result"
   ]
  },
  {
   "cell_type": "markdown",
   "id": "5d4629fc",
   "metadata": {},
   "source": [
    "# List Sum Calculator"
   ]
  },
  {
   "cell_type": "code",
   "execution_count": 2,
   "id": "91b9285d",
   "metadata": {},
   "outputs": [
    {
     "name": "stdout",
     "output_type": "stream",
     "text": [
      "Enter a list of numbers separated by spaces: 1 2 3\n"
     ]
    },
    {
     "data": {
      "text/plain": [
       "6"
      ]
     },
     "execution_count": 2,
     "metadata": {},
     "output_type": "execute_result"
    }
   ],
   "source": [
    "def list_sum(lst):\n",
    "   \n",
    "    return sum(lst)\n",
    "\n",
    "# Take user input for the list\n",
    "user_list_sum_str = input(\"Enter a list of numbers separated by spaces: \")\n",
    "user_list_sum = [int(num) for num in user_list_sum_str.split()]\n",
    "\n",
    "# Output the result\n",
    "list_sum_result = list_sum(user_list_sum)\n",
    "list_sum_result\n"
   ]
  },
  {
   "cell_type": "markdown",
   "id": "3092b72a",
   "metadata": {},
   "source": [
    "# Greatest Common Divisor (GCD) Calculator"
   ]
  },
  {
   "cell_type": "code",
   "execution_count": 3,
   "id": "9f352920",
   "metadata": {},
   "outputs": [
    {
     "name": "stdout",
     "output_type": "stream",
     "text": [
      "Enter the first integer: 12\n",
      "Enter the second integer: 3\n"
     ]
    },
    {
     "data": {
      "text/plain": [
       "3"
      ]
     },
     "execution_count": 3,
     "metadata": {},
     "output_type": "execute_result"
    }
   ],
   "source": [
    "def gcd(num1, num2):\n",
    "    \n",
    "    while num2:\n",
    "        num1, num2 = num2, num1 % num2\n",
    "    return num1\n",
    "\n",
    "# Take user input\n",
    "user_num1_gcd = int(input(\"Enter the first integer: \"))\n",
    "user_num2_gcd = int(input(\"Enter the second integer: \"))\n",
    "\n",
    "# Output the result\n",
    "gcd_result = gcd(user_num1_gcd, user_num2_gcd)\n",
    "gcd_result\n"
   ]
  },
  {
   "cell_type": "markdown",
   "id": "db02c3aa",
   "metadata": {},
   "source": [
    "# Leap Year Checker"
   ]
  },
  {
   "cell_type": "code",
   "execution_count": 4,
   "id": "9cd1d2dc",
   "metadata": {},
   "outputs": [
    {
     "name": "stdout",
     "output_type": "stream",
     "text": [
      "Enter a year: 2021\n"
     ]
    },
    {
     "data": {
      "text/plain": [
       "False"
      ]
     },
     "execution_count": 4,
     "metadata": {},
     "output_type": "execute_result"
    }
   ],
   "source": [
    "def is_leap_year(year):\n",
    "   \n",
    "    return (year % 4 == 0 and year % 100 != 0) or (year % 400 == 0)\n",
    "\n",
    "# Take user input\n",
    "user_year_leap = int(input(\"Enter a year: \"))\n",
    "\n",
    "# Output the result\n",
    "is_leap_year_result = is_leap_year(user_year_leap)\n",
    "is_leap_year_result"
   ]
  },
  {
   "cell_type": "code",
   "execution_count": null,
   "id": "1feeb2f3",
   "metadata": {},
   "outputs": [],
   "source": []
  }
 ],
 "metadata": {
  "kernelspec": {
   "display_name": "Python 3 (ipykernel)",
   "language": "python",
   "name": "python3"
  },
  "language_info": {
   "codemirror_mode": {
    "name": "ipython",
    "version": 3
   },
   "file_extension": ".py",
   "mimetype": "text/x-python",
   "name": "python",
   "nbconvert_exporter": "python",
   "pygments_lexer": "ipython3",
   "version": "3.11.5"
  }
 },
 "nbformat": 4,
 "nbformat_minor": 5
}
