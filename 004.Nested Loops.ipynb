{
 "cells": [
  {
   "cell_type": "markdown",
   "id": "45b9a057",
   "metadata": {},
   "source": [
    "# Multiplication Table"
   ]
  },
  {
   "cell_type": "code",
   "execution_count": 2,
   "id": "360a6161",
   "metadata": {},
   "outputs": [
    {
     "name": "stdout",
     "output_type": "stream",
     "text": [
      "Enter the starting number for the multiplication table: 10\n",
      "Enter the ending number for the multiplication table: 10\n",
      "10\t\n",
      "20\t\n",
      "30\t\n",
      "40\t\n",
      "50\t\n",
      "60\t\n",
      "70\t\n",
      "80\t\n",
      "90\t\n",
      "100\t\n"
     ]
    }
   ],
   "source": [
    "# Taking user input for the range\n",
    "start = int(input(\"Enter the starting number for the multiplication table: \"))\n",
    "end = int(input(\"Enter the ending number for the multiplication table: \"))\n",
    "\n",
    "# Printing the multiplication table\n",
    "for i in range(1, 11):\n",
    "    for j in range(start, end + 1):\n",
    "        print(i * j, end=\"\\t\")\n",
    "    print()"
   ]
  },
  {
   "cell_type": "markdown",
   "id": "c9efa494",
   "metadata": {},
   "source": [
    "# Print Patterns:"
   ]
  },
  {
   "cell_type": "code",
   "execution_count": 3,
   "id": "d60a21c3",
   "metadata": {},
   "outputs": [
    {
     "name": "stdout",
     "output_type": "stream",
     "text": [
      "Enter the number of rows for the pattern: 5\n",
      "*\n",
      "**\n",
      "***\n",
      "****\n",
      "*****\n"
     ]
    }
   ],
   "source": [
    "# Taking user input for the number of rows\n",
    "rows = int(input(\"Enter the number of rows for the pattern: \"))\n",
    "\n",
    "# Printing the pattern\n",
    "for i in range(1, rows + 1):\n",
    "    for j in range(i):\n",
    "        print(\"*\", end=\"\")\n",
    "    print()"
   ]
  },
  {
   "cell_type": "markdown",
   "id": "8e12389a",
   "metadata": {},
   "source": [
    "# Matrix Multiplication:"
   ]
  },
  {
   "cell_type": "code",
   "execution_count": 7,
   "id": "ece7f365",
   "metadata": {},
   "outputs": [
    {
     "name": "stdout",
     "output_type": "stream",
     "text": [
      "Enter the number of rows for matrix A: 3\n",
      "Enter the number of columns for matrix A: 2\n",
      "Enter the number of rows for matrix B: 2\n",
      "Enter the number of columns for matrix B: 4\n",
      "Enter element A[0][0]: 1\n",
      "Enter element A[0][1]: 2\n",
      "Enter element A[1][0]: 3\n",
      "Enter element A[1][1]: 4\n",
      "Enter element A[2][0]: 5\n",
      "Enter element A[2][1]: 6\n",
      "Enter element B[0][0]: 7\n",
      "Enter element B[0][1]: 8\n",
      "Enter element B[0][2]: 9\n",
      "Enter element B[0][3]: 10\n",
      "Enter element B[1][0]: 11\n",
      "Enter element B[1][1]: 12\n",
      "Enter element B[1][2]: 13\n",
      "Enter element B[1][3]: 14\n",
      "\n",
      "Matrix A:\n",
      "[1, 2]\n",
      "[3, 4]\n",
      "[5, 6]\n",
      "\n",
      "Matrix B:\n",
      "[7, 8, 9, 10]\n",
      "[11, 12, 13, 14]\n",
      "\n",
      "Result of matrix multiplication:\n",
      "[29, 32, 35, 38]\n",
      "[65, 72, 79, 86]\n",
      "[101, 112, 123, 134]\n"
     ]
    }
   ],
   "source": [
    "# Taking user input for the dimensions of matrices A and B\n",
    "rows_A = int(input(\"Enter the number of rows for matrix A: \"))\n",
    "cols_A = int(input(\"Enter the number of columns for matrix A: \"))\n",
    "\n",
    "rows_B = int(input(\"Enter the number of rows for matrix B: \"))\n",
    "cols_B = int(input(\"Enter the number of columns for matrix B: \"))\n",
    "\n",
    "# Check if matrices can be multiplied\n",
    "if cols_A != rows_B:\n",
    "    print(\"Matrices cannot be multiplied. Number of columns in A must be equal to the number of rows in B.\")\n",
    "else:\n",
    "    # Taking user input for matrix A\n",
    "    A = [[int(input(f\"Enter element A[{i}][{j}]: \")) for j in range(cols_A)] for i in range(rows_A)]\n",
    "\n",
    "    # Taking user input for matrix B\n",
    "    B = [[int(input(f\"Enter element B[{i}][{j}]: \")) for j in range(cols_B)] for i in range(rows_B)]\n",
    "\n",
    "    # Initializing the result matrix with zeros\n",
    "    result = [[0 for _ in range(cols_B)] for _ in range(rows_A)]\n",
    "\n",
    "    # Performing matrix multiplication\n",
    "    for i in range(rows_A):\n",
    "        for j in range(cols_B):\n",
    "            for k in range(cols_A):\n",
    "                result[i][j] += A[i][k] * B[k][j]\n",
    "\n",
    "    # Displaying the matrices and the result\n",
    "    print(\"\\nMatrix A:\")\n",
    "    for row in A:\n",
    "        print(row)\n",
    "\n",
    "    print(\"\\nMatrix B:\")\n",
    "    for row in B:\n",
    "        print(row)\n",
    "\n",
    "    print(\"\\nResult of matrix multiplication:\")\n",
    "    for row in result:\n",
    "        print(row)"
   ]
  },
  {
   "cell_type": "markdown",
   "id": "5ff68faf",
   "metadata": {},
   "source": [
    "# Chessboard Pattern"
   ]
  },
  {
   "cell_type": "code",
   "execution_count": 8,
   "id": "0041e591",
   "metadata": {},
   "outputs": [
    {
     "name": "stdout",
     "output_type": "stream",
     "text": [
      "Enter the size of the chessboard: 8\n",
      "X O X O X O X O \n",
      "O X O X O X O X \n",
      "X O X O X O X O \n",
      "O X O X O X O X \n",
      "X O X O X O X O \n",
      "O X O X O X O X \n",
      "X O X O X O X O \n",
      "O X O X O X O X \n"
     ]
    }
   ],
   "source": [
    "# Taking user input for the size of the chessboard\n",
    "size = int(input(\"Enter the size of the chessboard: \"))\n",
    "\n",
    "# Printing the chessboard pattern\n",
    "for i in range(size):\n",
    "    for j in range(size):\n",
    "        if (i + j) % 2 == 0:\n",
    "            print(\"X\", end=\" \")\n",
    "        else:\n",
    "            print(\"O\", end=\" \")\n",
    "    print()"
   ]
  },
  {
   "cell_type": "markdown",
   "id": "da0641a3",
   "metadata": {},
   "source": [
    " # Number Pyramid"
   ]
  },
  {
   "cell_type": "code",
   "execution_count": 9,
   "id": "a30077cc",
   "metadata": {},
   "outputs": [
    {
     "name": "stdout",
     "output_type": "stream",
     "text": [
      "Enter the number of rows for the pyramid: 5\n",
      "1\n",
      "22\n",
      "333\n",
      "4444\n",
      "55555\n"
     ]
    }
   ],
   "source": [
    "# Taking user input for the number of rows\n",
    "rows = int(input(\"Enter the number of rows for the pyramid: \"))\n",
    "\n",
    "# Printing the number pyramid\n",
    "for i in range(1, rows + 1):\n",
    "    for j in range(i):\n",
    "        print(i, end=\"\")\n",
    "    print()"
   ]
  },
  {
   "cell_type": "code",
   "execution_count": null,
   "id": "c390b325",
   "metadata": {},
   "outputs": [],
   "source": []
  }
 ],
 "metadata": {
  "kernelspec": {
   "display_name": "Python 3 (ipykernel)",
   "language": "python",
   "name": "python3"
  },
  "language_info": {
   "codemirror_mode": {
    "name": "ipython",
    "version": 3
   },
   "file_extension": ".py",
   "mimetype": "text/x-python",
   "name": "python",
   "nbconvert_exporter": "python",
   "pygments_lexer": "ipython3",
   "version": "3.11.5"
  }
 },
 "nbformat": 4,
 "nbformat_minor": 5
}
