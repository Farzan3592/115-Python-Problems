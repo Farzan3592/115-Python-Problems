{
 "cells": [
  {
   "cell_type": "markdown",
   "id": "d21e67ff",
   "metadata": {},
   "source": [
    "# Factorial Calculation"
   ]
  },
  {
   "cell_type": "code",
   "execution_count": 1,
   "id": "9a90a1aa",
   "metadata": {},
   "outputs": [
    {
     "name": "stdout",
     "output_type": "stream",
     "text": [
      "Enter a non-negative integer: 5\n"
     ]
    },
    {
     "data": {
      "text/plain": [
       "120"
      ]
     },
     "execution_count": 1,
     "metadata": {},
     "output_type": "execute_result"
    }
   ],
   "source": [
    "def factorial_recursive(num):\n",
    "   \n",
    "    if num == 0 or num == 1:\n",
    "        return 1\n",
    "    else:\n",
    "        return num * factorial_recursive(num - 1)\n",
    "\n",
    "# Take user input\n",
    "user_num_recursive = int(input(\"Enter a non-negative integer: \"))\n",
    "\n",
    "# Output the result\n",
    "factorial_result_recursive = factorial_recursive(user_num_recursive)\n",
    "factorial_result_recursive"
   ]
  },
  {
   "cell_type": "markdown",
   "id": "2c495685",
   "metadata": {},
   "source": [
    "# Fibonacci Series"
   ]
  },
  {
   "cell_type": "code",
   "execution_count": 2,
   "id": "909690e2",
   "metadata": {},
   "outputs": [
    {
     "name": "stdout",
     "output_type": "stream",
     "text": [
      "Enter the number of terms for the Fibonacci series: 4\n"
     ]
    },
    {
     "data": {
      "text/plain": [
       "[0, 1, 1, 2]"
      ]
     },
     "execution_count": 2,
     "metadata": {},
     "output_type": "execute_result"
    }
   ],
   "source": [
    "def fibonacci_recursive(n):\n",
    "   \n",
    "    if n <= 0:\n",
    "        return []\n",
    "    elif n == 1:\n",
    "        return [0]\n",
    "    elif n == 2:\n",
    "        return [0, 1]\n",
    "    else:\n",
    "        fib_series = fibonacci_recursive(n - 1)\n",
    "        fib_series.append(fib_series[-1] + fib_series[-2])\n",
    "        return fib_series\n",
    "\n",
    "# Take user input\n",
    "num_terms_recursive = int(input(\"Enter the number of terms for the Fibonacci series: \"))\n",
    "\n",
    "# Output the result\n",
    "fibonacci_series_recursive = fibonacci_recursive(num_terms_recursive)\n",
    "fibonacci_series_recursive"
   ]
  },
  {
   "cell_type": "markdown",
   "id": "37df0a6e",
   "metadata": {},
   "source": [
    "# The sum of Digits"
   ]
  },
  {
   "cell_type": "code",
   "execution_count": 3,
   "id": "7ada781c",
   "metadata": {},
   "outputs": [
    {
     "name": "stdout",
     "output_type": "stream",
     "text": [
      "Enter an integer: 12\n"
     ]
    },
    {
     "data": {
      "text/plain": [
       "3"
      ]
     },
     "execution_count": 3,
     "metadata": {},
     "output_type": "execute_result"
    }
   ],
   "source": [
    "def sum_of_digits_recursive(num):\n",
    "    \n",
    "    if num < 10:\n",
    "        return num\n",
    "    else:\n",
    "        return num % 10 + sum_of_digits_recursive(num // 10)\n",
    "\n",
    "# Take user input\n",
    "user_integer_recursive = int(input(\"Enter an integer: \"))\n",
    "\n",
    "# Output the result\n",
    "digit_sum_recursive = sum_of_digits_recursive(user_integer_recursive)\n",
    "digit_sum_recursive\n"
   ]
  },
  {
   "cell_type": "markdown",
   "id": "e43f16d5",
   "metadata": {},
   "source": [
    "# Binary Search"
   ]
  },
  {
   "cell_type": "code",
   "execution_count": 4,
   "id": "b82489b6",
   "metadata": {},
   "outputs": [
    {
     "name": "stdout",
     "output_type": "stream",
     "text": [
      "Enter a sorted list of numbers separated by spaces: 1 2 3 4 5\n",
      "Enter the target value to search for: 5\n"
     ]
    },
    {
     "data": {
      "text/plain": [
       "4"
      ]
     },
     "execution_count": 4,
     "metadata": {},
     "output_type": "execute_result"
    }
   ],
   "source": [
    "def binary_search_recursive(arr, target, low, high):\n",
    "   \n",
    "    if low <= high:\n",
    "        mid = (low + high) // 2\n",
    "        if arr[mid] == target:\n",
    "            return mid\n",
    "        elif arr[mid] < target:\n",
    "            return binary_search_recursive(arr, target, mid + 1, high)\n",
    "        else:\n",
    "            return binary_search_recursive(arr, target, low, mid - 1)\n",
    "    else:\n",
    "        return -1\n",
    "\n",
    "# Take user input\n",
    "sorted_list_recursive_str = input(\"Enter a sorted list of numbers separated by spaces: \")\n",
    "sorted_list_recursive = [int(num) for num in sorted_list_recursive_str.split()]\n",
    "user_target_recursive = int(input(\"Enter the target value to search for: \"))\n",
    "\n",
    "# Output the result\n",
    "search_result_recursive = binary_search_recursive(sorted_list_recursive, user_target_recursive, 0, len(sorted_list_recursive) - 1)\n",
    "search_result_recursive"
   ]
  },
  {
   "cell_type": "markdown",
   "id": "c4e1a1ff",
   "metadata": {},
   "source": [
    "# Power Calculation"
   ]
  },
  {
   "cell_type": "code",
   "execution_count": 5,
   "id": "18391b6e",
   "metadata": {},
   "outputs": [
    {
     "name": "stdout",
     "output_type": "stream",
     "text": [
      "Enter the base number: 2\n",
      "Enter the exponent: 4\n"
     ]
    },
    {
     "data": {
      "text/plain": [
       "16"
      ]
     },
     "execution_count": 5,
     "metadata": {},
     "output_type": "execute_result"
    }
   ],
   "source": [
    "def power_recursive(base, exponent):\n",
    " \n",
    "    if exponent == 0:\n",
    "        return 1\n",
    "    else:\n",
    "        return base * power_recursive(base, exponent - 1)\n",
    "\n",
    "# Take user input\n",
    "user_base_recursive = int(input(\"Enter the base number: \"))\n",
    "user_exponent_recursive = int(input(\"Enter the exponent: \"))\n",
    "\n",
    "# Output the result\n",
    "result_power_recursive = power_recursive(user_base_recursive, user_exponent_recursive)\n",
    "result_power_recursive\n"
   ]
  },
  {
   "cell_type": "code",
   "execution_count": null,
   "id": "51ff89b3",
   "metadata": {},
   "outputs": [],
   "source": []
  }
 ],
 "metadata": {
  "kernelspec": {
   "display_name": "Python 3 (ipykernel)",
   "language": "python",
   "name": "python3"
  },
  "language_info": {
   "codemirror_mode": {
    "name": "ipython",
    "version": 3
   },
   "file_extension": ".py",
   "mimetype": "text/x-python",
   "name": "python",
   "nbconvert_exporter": "python",
   "pygments_lexer": "ipython3",
   "version": "3.11.5"
  }
 },
 "nbformat": 4,
 "nbformat_minor": 5
}
