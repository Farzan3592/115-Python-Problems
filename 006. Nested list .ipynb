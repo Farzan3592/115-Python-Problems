{
 "cells": [
  {
   "cell_type": "markdown",
   "id": "3950afb6",
   "metadata": {},
   "source": [
    "# Matrix Addition"
   ]
  },
  {
   "cell_type": "code",
   "execution_count": 1,
   "id": "65e2278a",
   "metadata": {},
   "outputs": [
    {
     "name": "stdout",
     "output_type": "stream",
     "text": [
      "Enter elements of matrix A separated by space: 1 2 3\n",
      "Enter elements of matrix A separated by space: 4 5 6\n",
      "Enter elements of matrix A separated by space: 6 7 8\n",
      "Enter elements of matrix B separated by space: 9 8 7\n",
      "Enter elements of matrix B separated by space: 6 5 4\n",
      "Enter elements of matrix B separated by space: 1 2 3\n",
      "[10, 10, 10]\n",
      "[10, 10, 10]\n",
      "[7, 9, 11]\n"
     ]
    }
   ],
   "source": [
    "# Taking user input for matrices A and B\n",
    "A = [[int(x) for x in input(\"Enter elements of matrix A separated by space: \").split()] for _ in range(3)]\n",
    "B = [[int(x) for x in input(\"Enter elements of matrix B separated by space: \").split()] for _ in range(3)]\n",
    "\n",
    "# Adding matrices\n",
    "result = [[A[i][j] + B[i][j] for j in range(3)] for i in range(3)]\n",
    "\n",
    "# Printing the result\n",
    "for row in result:\n",
    "    print(row)"
   ]
  },
  {
   "cell_type": "markdown",
   "id": "e19b5f90",
   "metadata": {},
   "source": [
    "# Flatten Nested List"
   ]
  },
  {
   "cell_type": "code",
   "execution_count": 1,
   "id": "c1512688",
   "metadata": {},
   "outputs": [
    {
     "name": "stdout",
     "output_type": "stream",
     "text": [
      "Enter a nested list: [[1, 2, 3], [4, 5, [6, 7]], [8, 9]]\n",
      "Flattened list: [1, 2, 3, 4, 5, [6, 7], 8, 9]\n"
     ]
    }
   ],
   "source": [
    "# Taking user input for the nested list\n",
    "nested_list = eval(input(\"Enter a nested list: \"))\n",
    "\n",
    "# Flattening the nested list\n",
    "flat_list = [item for sublist in nested_list for item in sublist]\n",
    "\n",
    "print(\"Flattened list:\", flat_list)"
   ]
  },
  {
   "cell_type": "markdown",
   "id": "38b610e5",
   "metadata": {},
   "source": [
    "# List Element Frequency"
   ]
  },
  {
   "cell_type": "code",
   "execution_count": 2,
   "id": "67a5529d",
   "metadata": {},
   "outputs": [
    {
     "name": "stdout",
     "output_type": "stream",
     "text": [
      "Enter a nested list of integers: [[1, 2, 3], [2, 3, 4], [1, 1, 2]]\n",
      "Element frequency: {1: 3, 2: 3, 3: 2, 4: 1}\n"
     ]
    }
   ],
   "source": [
    "# Taking user input for the nested list\n",
    "nested_list = eval(input(\"Enter a nested list of integers: \"))\n",
    "\n",
    "# Counting frequency of each element\n",
    "element_frequency = {}\n",
    "for sublist in nested_list:\n",
    "    for element in sublist:\n",
    "        if element in element_frequency:\n",
    "            element_frequency[element] += 1\n",
    "        else:\n",
    "            element_frequency[element] = 1\n",
    "\n",
    "print(\"Element frequency:\", element_frequency)"
   ]
  },
  {
   "cell_type": "markdown",
   "id": "973654a8",
   "metadata": {},
   "source": [
    "# Transpose Matrix"
   ]
  },
  {
   "cell_type": "code",
   "execution_count": 3,
   "id": "121bdaf4",
   "metadata": {},
   "outputs": [
    {
     "name": "stdout",
     "output_type": "stream",
     "text": [
      "Enter elements of the matrix separated by space: 1 2 3\n",
      "Enter elements of the matrix separated by space: 4 5 6\n",
      "Enter elements of the matrix separated by space: 7 8 9\n",
      "[1, 4, 7]\n",
      "[2, 5, 8]\n",
      "[3, 6, 9]\n"
     ]
    }
   ],
   "source": [
    "# Taking user input for the matrix\n",
    "matrix = [[int(x) for x in input(\"Enter elements of the matrix separated by space: \").split()] for _ in range(3)]\n",
    "\n",
    "# Transposing the matrix\n",
    "transposed_matrix = [[matrix[j][i] for j in range(3)] for i in range(3)]\n",
    "\n",
    "# Printing the transposed matrix\n",
    "for row in transposed_matrix:\n",
    "    print(row)"
   ]
  },
  {
   "cell_type": "markdown",
   "id": "c15de84a",
   "metadata": {},
   "source": [
    "# List of Lists Concatenation"
   ]
  },
  {
   "cell_type": "code",
   "execution_count": 4,
   "id": "09b8fbe0",
   "metadata": {},
   "outputs": [
    {
     "name": "stdout",
     "output_type": "stream",
     "text": [
      "Enter a nested list: [1,2,3]\n",
      "Enter a nested list: [4,5,6]\n",
      "Enter a nested list: [7,8,9]\n",
      "Concatenated flat list: [1, 2, 3, 4, 5, 6, 7, 8, 9]\n"
     ]
    }
   ],
   "source": [
    "# Taking user input for the list of nested lists\n",
    "list_of_lists = [eval(input(\"Enter a nested list: \")) for _ in range(3)]\n",
    "\n",
    "# Concatenating sublists into a single flat list\n",
    "flat_list = [item for sublist in list_of_lists for item in sublist]\n",
    "\n",
    "print(\"Concatenated flat list:\", flat_list)"
   ]
  },
  {
   "cell_type": "code",
   "execution_count": null,
   "id": "f195d07c",
   "metadata": {},
   "outputs": [],
   "source": []
  }
 ],
 "metadata": {
  "kernelspec": {
   "display_name": "Python 3 (ipykernel)",
   "language": "python",
   "name": "python3"
  },
  "language_info": {
   "codemirror_mode": {
    "name": "ipython",
    "version": 3
   },
   "file_extension": ".py",
   "mimetype": "text/x-python",
   "name": "python",
   "nbconvert_exporter": "python",
   "pygments_lexer": "ipython3",
   "version": "3.11.5"
  }
 },
 "nbformat": 4,
 "nbformat_minor": 5
}
