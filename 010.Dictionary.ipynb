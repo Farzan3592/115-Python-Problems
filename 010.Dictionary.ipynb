{
 "cells": [
  {
   "cell_type": "markdown",
   "id": "1f695521",
   "metadata": {},
   "source": [
    "# Dictionary Manipulation"
   ]
  },
  {
   "cell_type": "code",
   "execution_count": 1,
   "id": "c4566a56",
   "metadata": {},
   "outputs": [
    {
     "name": "stdout",
     "output_type": "stream",
     "text": [
      "Enter a new student and their score(e.g., Anim 96) : sam 91\n",
      "Enter an existing student and their updated score (e.g., Adnan 94): Zayan 91\n"
     ]
    },
    {
     "data": {
      "text/plain": [
       "{'Adnan': 85, 'Farzan': 92, 'Zayan': 91, 'sam': 91}"
      ]
     },
     "execution_count": 1,
     "metadata": {},
     "output_type": "execute_result"
    }
   ],
   "source": [
    "def manipulate_dictionary(student_scores, new_student, update_student):\n",
    "\n",
    "    # Add a new student\n",
    "    student_scores[new_student[0]] = new_student[1]\n",
    "\n",
    "    # Update an existing student's score\n",
    "    if update_student[0] in student_scores:\n",
    "        student_scores[update_student[0]] = update_student[1]\n",
    "\n",
    "    return student_scores\n",
    "\n",
    "# Take user input\n",
    "existing_scores = {'Adnan': 85, 'Farzan': 92, 'Zayan': 78}\n",
    "new_student_input = input(\"Enter a new student and their score(e.g., Anim 96) : \").split()\n",
    "new_student = (new_student_input[0], int(new_student_input[1]))\n",
    "update_student_input = input(\"Enter an existing student and their updated score (e.g., Adnan 94): \").split()\n",
    "update_student = (update_student_input[0], int(update_student_input[1]))\n",
    "\n",
    "# Output the result\n",
    "manipulated_dictionary_result = manipulate_dictionary(existing_scores, new_student, update_student)\n",
    "manipulated_dictionary_result"
   ]
  },
  {
   "cell_type": "markdown",
   "id": "c1831b94",
   "metadata": {},
   "source": [
    "#  Dictionary Keys and Values"
   ]
  },
  {
   "cell_type": "code",
   "execution_count": 1,
   "id": "9c29b55b",
   "metadata": {},
   "outputs": [
    {
     "name": "stdout",
     "output_type": "stream",
     "text": [
      "Enter a dictionary in the format {'key1': value1, 'key2': value2', ...}: {'key1': 'value1', 'key2': 'value2', 'key3': 'value3'}\n",
      "Key: key1, Value: value1\n",
      "Key: key2, Value: value2\n",
      "Key: key3, Value: value3\n"
     ]
    }
   ],
   "source": [
    "def print_keys_and_values(input_dict):\n",
    "\n",
    "    for key, value in input_dict.items():\n",
    "        print(f\"Key: {key}, Value: {value}\")\n",
    "\n",
    "# Take user input\n",
    "user_dict_input = input(\"Enter a dictionary in the format {'key1': value1, 'key2': value2', ...}: \")\n",
    "user_dict = eval(user_dict_input)\n",
    "\n",
    "# Output the result\n",
    "print_keys_and_values(user_dict)"
   ]
  },
  {
   "cell_type": "markdown",
   "id": "cd220b3d",
   "metadata": {},
   "source": [
    "# Dictionary Length"
   ]
  },
  {
   "cell_type": "code",
   "execution_count": 2,
   "id": "e9ecf7e4",
   "metadata": {},
   "outputs": [
    {
     "name": "stdout",
     "output_type": "stream",
     "text": [
      "Enter a dictionary in the format {'key1': value1, 'key2': value2, ...}: {'key1': 'value1', 'key2': 'value2', 'key3': 'value3'}\n"
     ]
    },
    {
     "data": {
      "text/plain": [
       "3"
      ]
     },
     "execution_count": 2,
     "metadata": {},
     "output_type": "execute_result"
    }
   ],
   "source": [
    "def dictionary_length(input_dict):\n",
    "  \n",
    "    return len(input_dict)\n",
    "\n",
    "# Take user input\n",
    "user_dict_length_input = input(\"Enter a dictionary in the format {'key1': value1, 'key2': value2, ...}: \")\n",
    "user_dict_length = eval(user_dict_length_input)\n",
    "\n",
    "# Output the result\n",
    "dictionary_length_result = dictionary_length(user_dict_length)\n",
    "dictionary_length_result"
   ]
  },
  {
   "cell_type": "markdown",
   "id": "d55042ca",
   "metadata": {},
   "source": [
    "# Dictionary Value Search"
   ]
  },
  {
   "cell_type": "code",
   "execution_count": 3,
   "id": "e9442765",
   "metadata": {},
   "outputs": [
    {
     "name": "stdout",
     "output_type": "stream",
     "text": [
      "Enter a dictionary of items and prices in the format {'item1': price1, 'item2': price2, ...}: {'item1': 10, 'item2': 20, 'item3': 30}\n",
      "Enter the price to search for: 30\n"
     ]
    },
    {
     "data": {
      "text/plain": [
       "'item3'"
      ]
     },
     "execution_count": 3,
     "metadata": {},
     "output_type": "execute_result"
    }
   ],
   "source": [
    "def search_dictionary_value(input_dict, search_value):\n",
    " \n",
    "    for item, price in input_dict.items():\n",
    "        if price == search_value:\n",
    "            return item\n",
    "    return \"Item Not Found\"\n",
    "# Take user input\n",
    "user_dict_search_input = input(\"Enter a dictionary of items and prices in the format {'item1': price1, 'item2': price2, ...}: \")\n",
    "user_dict_search = eval(user_dict_search_input)\n",
    "user_search_value = float(input(\"Enter the price to search for: \"))\n",
    "\n",
    "# Output the result\n",
    "search_result = search_dictionary_value(user_dict_search, user_search_value)\n",
    "search_result"
   ]
  },
  {
   "cell_type": "markdown",
   "id": "1e3ccd2d",
   "metadata": {},
   "source": [
    "# Dictionary Merging"
   ]
  },
  {
   "cell_type": "code",
   "execution_count": 4,
   "id": "51b52f78",
   "metadata": {},
   "outputs": [
    {
     "name": "stdout",
     "output_type": "stream",
     "text": [
      "Enter the first dictionary in the format {'key1': value1, 'key2': value2, ...}: {'a': 1, 'b': 2}\n",
      "Enter the second dictionary in the format {'key1': value1, 'key2': value2, ...}: {'c': 3, 'd': 4}\n"
     ]
    },
    {
     "data": {
      "text/plain": [
       "{'a': 1, 'b': 2, 'c': 3, 'd': 4}"
      ]
     },
     "execution_count": 4,
     "metadata": {},
     "output_type": "execute_result"
    }
   ],
   "source": [
    "def merge_dictionaries(dict1, dict2):\n",
    " \n",
    "    merged_dict = {**dict1, **dict2}\n",
    "    return merged_dict\n",
    "\n",
    "# Take user input\n",
    "user_dict1_input = input(\"Enter the first dictionary in the format {'key1': value1, 'key2': value2, ...}: \")\n",
    "user_dict2_input = input(\"Enter the second dictionary in the format {'key1': value1, 'key2': value2, ...}: \")\n",
    "user_dict1 = eval(user_dict1_input)\n",
    "user_dict2 = eval(user_dict2_input)\n",
    "\n",
    "# Output the result\n",
    "merged_dictionary_result = merge_dictionaries(user_dict1, user_dict2)\n",
    "merged_dictionary_result"
   ]
  },
  {
   "cell_type": "markdown",
   "id": "14301def",
   "metadata": {},
   "source": [
    "# Dictionary Key Removal"
   ]
  },
  {
   "cell_type": "code",
   "execution_count": 1,
   "id": "81d1f46b",
   "metadata": {},
   "outputs": [
    {
     "name": "stdout",
     "output_type": "stream",
     "text": [
      "Enter a dictionary of items and quantities in the format {'item1': quantity1, 'item2': quantity2, ...}: {'item1': 10, 'item2': 20, 'item3': 30}\n",
      "Enter the key (item) to remove: item3\n"
     ]
    },
    {
     "data": {
      "text/plain": [
       "{'item1': 10, 'item2': 20}"
      ]
     },
     "execution_count": 1,
     "metadata": {},
     "output_type": "execute_result"
    }
   ],
   "source": [
    "def remove_dictionary_key(input_dict, remove_key):\n",
    "\n",
    "    if remove_key in input_dict:\n",
    "        del input_dict[remove_key]\n",
    "    return input_dict\n",
    "\n",
    "# Take user input\n",
    "user_dict_remove_input = input(\"Enter a dictionary of items and quantities in the format {'item1': quantity1, 'item2': quantity2, ...}: \")\n",
    "user_dict_remove = eval(user_dict_remove_input)\n",
    "user_remove_key = input(\"Enter the key (item) to remove: \")\n",
    "\n",
    "# Output the result\n",
    "removed_dictionary_result = remove_dictionary_key(user_dict_remove, user_remove_key)\n",
    "removed_dictionary_result"
   ]
  },
  {
   "cell_type": "markdown",
   "id": "e8f6d22f",
   "metadata": {},
   "source": [
    "# Dictionary Sorting"
   ]
  },
  {
   "cell_type": "code",
   "execution_count": 2,
   "id": "f072ff80",
   "metadata": {},
   "outputs": [
    {
     "name": "stdout",
     "output_type": "stream",
     "text": [
      "Enter a dictionary with names as keys and ages as values in the format {'name1': age1, 'name2': age2, ...}: {'Adnan': 25, 'samiha': 30, 'Anim': 22}\n"
     ]
    },
    {
     "data": {
      "text/plain": [
       "{'Anim': 22, 'Adnan': 25, 'samiha': 30}"
      ]
     },
     "execution_count": 2,
     "metadata": {},
     "output_type": "execute_result"
    }
   ],
   "source": [
    "def sort_dictionary_by_age(input_dict):\n",
    "\n",
    "    sorted_dict = dict(sorted(input_dict.items(), key=lambda item: item[1]))\n",
    "    return sorted_dict\n",
    "\n",
    "# Take user input\n",
    "user_dict_sort_input = input(\"Enter a dictionary with names as keys and ages as values in the format {'name1': age1, 'name2': age2, ...}: \")\n",
    "user_dict_sort = eval(user_dict_sort_input)\n",
    "\n",
    "# Output the result\n",
    "sorted_dictionary_result = sort_dictionary_by_age(user_dict_sort)\n",
    "sorted_dictionary_result"
   ]
  },
  {
   "cell_type": "markdown",
   "id": "1715814d",
   "metadata": {},
   "source": [
    " # Dictionary Frequency Count"
   ]
  },
  {
   "cell_type": "code",
   "execution_count": 3,
   "id": "7e26510f",
   "metadata": {},
   "outputs": [
    {
     "name": "stdout",
     "output_type": "stream",
     "text": [
      "Enter a string: Farzan\n"
     ]
    },
    {
     "data": {
      "text/plain": [
       "{'F': 1, 'a': 2, 'r': 1, 'z': 1, 'n': 1}"
      ]
     },
     "execution_count": 3,
     "metadata": {},
     "output_type": "execute_result"
    }
   ],
   "source": [
    "def count_character_frequency(input_str):\n",
    "    \n",
    "    char_frequency = {}\n",
    "    for char in input_str:\n",
    "        char_frequency[char] = char_frequency.get(char, 0) + 1\n",
    "    return char_frequency\n",
    "\n",
    "# Take user input\n",
    "user_str_input = input(\"Enter a string: \")\n",
    "\n",
    "# Output the result\n",
    "character_frequency_result = count_character_frequency(user_str_input)\n",
    "character_frequency_result"
   ]
  },
  {
   "cell_type": "markdown",
   "id": "8f6815eb",
   "metadata": {},
   "source": [
    "# Dictionary Comprehension"
   ]
  },
  {
   "cell_type": "code",
   "execution_count": 4,
   "id": "fab49aee",
   "metadata": {},
   "outputs": [
    {
     "name": "stdout",
     "output_type": "stream",
     "text": [
      "Enter a list of integers separated by spaces: 1 3 5 7\n"
     ]
    },
    {
     "data": {
      "text/plain": [
       "{1: 1, 3: 9, 5: 25, 7: 49}"
      ]
     },
     "execution_count": 4,
     "metadata": {},
     "output_type": "execute_result"
    }
   ],
   "source": [
    "def create_squares_dictionary(input_list):\n",
    " \n",
    "    squares_dict = {num: num**2 for num in input_list}\n",
    "    return squares_dict\n",
    "\n",
    "# Take user input\n",
    "user_list_comprehension_input = input(\"Enter a list of integers separated by spaces: \")\n",
    "user_list_comprehension = [int(num) for num in user_list_comprehension_input.split()]\n",
    "\n",
    "# Output the result\n",
    "squares_dictionary_result = create_squares_dictionary(user_list_comprehension)\n",
    "squares_dictionary_result"
   ]
  },
  {
   "cell_type": "markdown",
   "id": "5cf77e4d",
   "metadata": {},
   "source": [
    "# Dictionary Key Check"
   ]
  },
  {
   "cell_type": "code",
   "execution_count": 5,
   "id": "cd58ec0d",
   "metadata": {},
   "outputs": [
    {
     "name": "stdout",
     "output_type": "stream",
     "text": [
      "Enter a dictionary in the format {'key1': value1, 'key2': value2, ...}: {'key1': 'value1', 'key2': 'value2', 'key3': 'value3'}\n",
      "Enter the key to check: key2\n"
     ]
    },
    {
     "data": {
      "text/plain": [
       "'Key Found'"
      ]
     },
     "execution_count": 5,
     "metadata": {},
     "output_type": "execute_result"
    }
   ],
   "source": [
    "def check_dictionary_key(input_dict, check_key):\n",
    "  \n",
    "    return \"Key Found\" if check_key in input_dict else \"Key Not Found\"\n",
    "\n",
    "# Take user input\n",
    "user_dict_key_input = input(\"Enter a dictionary in the format {'key1': value1, 'key2': value2, ...}: \")\n",
    "user_dict_key = eval(user_dict_key_input)\n",
    "user_check_key = input(\"Enter the key to check: \")\n",
    "\n",
    "# Output the result\n",
    "key_check_result = check_dictionary_key(user_dict_key, user_check_key)\n",
    "key_check_result"
   ]
  },
  {
   "cell_type": "code",
   "execution_count": null,
   "id": "9557a1ea",
   "metadata": {},
   "outputs": [],
   "source": []
  }
 ],
 "metadata": {
  "kernelspec": {
   "display_name": "Python 3 (ipykernel)",
   "language": "python",
   "name": "python3"
  },
  "language_info": {
   "codemirror_mode": {
    "name": "ipython",
    "version": 3
   },
   "file_extension": ".py",
   "mimetype": "text/x-python",
   "name": "python",
   "nbconvert_exporter": "python",
   "pygments_lexer": "ipython3",
   "version": "3.11.5"
  }
 },
 "nbformat": 4,
 "nbformat_minor": 5
}
