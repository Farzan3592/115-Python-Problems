{
 "cells": [
  {
   "cell_type": "markdown",
   "id": "293f4122",
   "metadata": {},
   "source": [
    "# Duplicate Removal"
   ]
  },
  {
   "cell_type": "code",
   "execution_count": 1,
   "id": "d8f41e28",
   "metadata": {},
   "outputs": [
    {
     "name": "stdout",
     "output_type": "stream",
     "text": [
      "Enter elements separated by space: 1 2 3 4 5 1 2\n",
      "Set with unique elements: {'1', '3', '4', '5', '2'}\n"
     ]
    }
   ],
   "source": [
    "# Taking user input for the list of elements\n",
    "elements_list = input(\"Enter elements separated by space: \").split()\n",
    "\n",
    "# Creating a set with unique elements\n",
    "unique_set = set(elements_list)\n",
    "\n",
    "print(\"Set with unique elements:\", unique_set)"
   ]
  },
  {
   "cell_type": "markdown",
   "id": "62ab775a",
   "metadata": {},
   "source": [
    "# Set Intersection"
   ]
  },
  {
   "cell_type": "code",
   "execution_count": 2,
   "id": "10fcad06",
   "metadata": {},
   "outputs": [
    {
     "name": "stdout",
     "output_type": "stream",
     "text": [
      "Enter elements of set A separated by space: 1 2 3\n",
      "Enter elements of set B separated by space: 3 4 2\n",
      "Intersection of sets A and B: {'3', '2'}\n"
     ]
    }
   ],
   "source": [
    "# Taking user input for sets A and B\n",
    "set_A = set(input(\"Enter elements of set A separated by space: \").split())\n",
    "set_B = set(input(\"Enter elements of set B separated by space: \").split())\n",
    "\n",
    "# Finding the intersection of sets A and B\n",
    "intersection_set = set_A.intersection(set_B)\n",
    "\n",
    "print(\"Intersection of sets A and B:\", intersection_set)"
   ]
  },
  {
   "cell_type": "markdown",
   "id": "a9911e9c",
   "metadata": {},
   "source": [
    "# Set Union"
   ]
  },
  {
   "cell_type": "code",
   "execution_count": 3,
   "id": "0c80b9f6",
   "metadata": {},
   "outputs": [
    {
     "name": "stdout",
     "output_type": "stream",
     "text": [
      "Enter elements of set A separated by space: 1 2 3\n",
      "Enter elements of set B separated by space: 2 3 4\n",
      "Union of sets A and B: {'3', '4', '1', '2'}\n"
     ]
    }
   ],
   "source": [
    "# Taking user input for sets A and B\n",
    "set_A = set(input(\"Enter elements of set A separated by space: \").split())\n",
    "set_B = set(input(\"Enter elements of set B separated by space: \").split())\n",
    "\n",
    "# Finding the union of sets A and B\n",
    "union_set = set_A.union(set_B)\n",
    "\n",
    "print(\"Union of sets A and B:\", union_set)"
   ]
  },
  {
   "cell_type": "markdown",
   "id": "8e37a973",
   "metadata": {},
   "source": [
    "# Set Difference"
   ]
  },
  {
   "cell_type": "code",
   "execution_count": 4,
   "id": "50b55597",
   "metadata": {},
   "outputs": [
    {
     "name": "stdout",
     "output_type": "stream",
     "text": [
      "Enter elements of set A separated by space: 1 2 3 4\n",
      "Enter elements of set B separated by space: 3 4 5\n",
      "Difference between sets A and B: {'1', '2'}\n"
     ]
    }
   ],
   "source": [
    "# Taking user input for sets A and B\n",
    "set_A = set(input(\"Enter elements of set A separated by space: \").split())\n",
    "set_B = set(input(\"Enter elements of set B separated by space: \").split())\n",
    "\n",
    "# Finding the difference between sets A and B\n",
    "difference_set = set_A.difference(set_B)\n",
    "\n",
    "print(\"Difference between sets A and B:\", difference_set)"
   ]
  },
  {
   "cell_type": "markdown",
   "id": "e7c5e591",
   "metadata": {},
   "source": [
    "# Set Symmetric Difference"
   ]
  },
  {
   "cell_type": "code",
   "execution_count": 5,
   "id": "3eeb9a72",
   "metadata": {},
   "outputs": [
    {
     "name": "stdout",
     "output_type": "stream",
     "text": [
      "Enter elements of set A separated by space: 1 2 3 4\n",
      "Enter elements of set B separated by space: 3 4 5 6\n",
      "Symmetric difference between sets A and B: {'1', '5', '2', '6'}\n"
     ]
    }
   ],
   "source": [
    "# Taking user input for sets A and B\n",
    "set_A = set(input(\"Enter elements of set A separated by space: \").split())\n",
    "set_B = set(input(\"Enter elements of set B separated by space: \").split())\n",
    "\n",
    "# Finding the symmetric difference between sets A and B\n",
    "symmetric_difference_set = set_A.symmetric_difference(set_B)\n",
    "\n",
    "print(\"Symmetric difference between sets A and B:\", symmetric_difference_set)"
   ]
  },
  {
   "cell_type": "markdown",
   "id": "27d67e0f",
   "metadata": {},
   "source": [
    "# Set Operations"
   ]
  },
  {
   "cell_type": "code",
   "execution_count": 6,
   "id": "90b98d7c",
   "metadata": {},
   "outputs": [
    {
     "name": "stdout",
     "output_type": "stream",
     "text": [
      "Enter elements of set A separated by space: 1 2 3\n",
      "Enter elements of set B separated by space: 3 4 5\n",
      "Enter elements of set C separated by space: 6 7 5\n",
      "Intersection of sets A and B: {'3'}\n",
      "Union of sets B and C: {'3', '7', '4', '5', '6'}\n",
      "Difference between sets C and A: {'7', '5', '6'}\n"
     ]
    }
   ],
   "source": [
    "# Taking user input for sets A, B, and C\n",
    "set_A = set(input(\"Enter elements of set A separated by space: \").split())\n",
    "set_B = set(input(\"Enter elements of set B separated by space: \").split())\n",
    "set_C = set(input(\"Enter elements of set C separated by space: \").split())\n",
    "\n",
    "# Performing set operations\n",
    "intersection_AB = set_A.intersection(set_B)\n",
    "union_BC = set_B.union(set_C)\n",
    "difference_CA = set_C.difference(set_A)\n",
    "\n",
    "print(\"Intersection of sets A and B:\", intersection_AB)\n",
    "print(\"Union of sets B and C:\", union_BC)\n",
    "print(\"Difference between sets C and A:\", difference_CA)"
   ]
  },
  {
   "cell_type": "markdown",
   "id": "4a7024d1",
   "metadata": {},
   "source": [
    "# Set Subset Check"
   ]
  },
  {
   "cell_type": "code",
   "execution_count": 7,
   "id": "7112b5d0",
   "metadata": {},
   "outputs": [
    {
     "name": "stdout",
     "output_type": "stream",
     "text": [
      "Enter elements of set A separated by space: 1 2\n",
      "Enter elements of set B separated by space: 1\n",
      "Is set A a subset of set B? False\n"
     ]
    }
   ],
   "source": [
    "# Taking user input for sets A and B\n",
    "set_A = set(input(\"Enter elements of set A separated by space: \").split())\n",
    "set_B = set(input(\"Enter elements of set B separated by space: \").split())\n",
    "\n",
    "# Checking if set A is a subset of set B\n",
    "is_subset = set_A.issubset(set_B)\n",
    "\n",
    "print(\"Is set A a subset of set B?\", is_subset)"
   ]
  },
  {
   "cell_type": "markdown",
   "id": "215179e9",
   "metadata": {},
   "source": [
    "# Set Superset Check"
   ]
  },
  {
   "cell_type": "code",
   "execution_count": 8,
   "id": "298ae8ce",
   "metadata": {},
   "outputs": [
    {
     "name": "stdout",
     "output_type": "stream",
     "text": [
      "Enter elements of set A separated by space: 1 2\n",
      "Enter elements of set B separated by space: 1 2 3\n",
      "Is set A a superset of set B? False\n"
     ]
    }
   ],
   "source": [
    "# Taking user input for sets A and B\n",
    "set_A = set(input(\"Enter elements of set A separated by space: \").split())\n",
    "set_B = set(input(\"Enter elements of set B separated by space: \").split())\n",
    "\n",
    "# Checking if set A is a superset of set B\n",
    "is_superset = set_A.issuperset(set_B)\n",
    "\n",
    "print(\"Is set A a superset of set B?\", is_superset)"
   ]
  },
  {
   "cell_type": "markdown",
   "id": "79876981",
   "metadata": {},
   "source": [
    "# Set Length Check"
   ]
  },
  {
   "cell_type": "code",
   "execution_count": 9,
   "id": "4586a864",
   "metadata": {},
   "outputs": [
    {
     "name": "stdout",
     "output_type": "stream",
     "text": [
      "Enter elements of the set separated by space: 1 2 3 4\n",
      "Number of elements in the set: 4\n"
     ]
    }
   ],
   "source": [
    "# Taking user input for the set\n",
    "input_set = set(input(\"Enter elements of the set separated by space: \").split())\n",
    "\n",
    "# Printing the number of elements in the set\n",
    "set_length = len(input_set)\n",
    "\n",
    "print(\"Number of elements in the set:\", set_length)"
   ]
  },
  {
   "cell_type": "markdown",
   "id": "7a716c7e",
   "metadata": {},
   "source": [
    "# Set Membership Test"
   ]
  },
  {
   "cell_type": "code",
   "execution_count": 10,
   "id": "7f4110c1",
   "metadata": {},
   "outputs": [
    {
     "name": "stdout",
     "output_type": "stream",
     "text": [
      "Enter elements of the set separated by space: 1 2 3 4 5\n",
      "Enter the element to test for membership: 2\n",
      "Element found\n"
     ]
    }
   ],
   "source": [
    "# Taking user input for the set\n",
    "input_set = set(input(\"Enter elements of the set separated by space: \").split())\n",
    "\n",
    "# Taking user input for the element to test\n",
    "element_to_test = input(\"Enter the element to test for membership: \")\n",
    "\n",
    "# Checking if the element exists in the set\n",
    "is_member = element_to_test in input_set\n",
    "print(\"Element found\" if is_member else \"Element not found\")"
   ]
  },
  {
   "cell_type": "code",
   "execution_count": null,
   "id": "6a2b319c",
   "metadata": {},
   "outputs": [],
   "source": []
  }
 ],
 "metadata": {
  "kernelspec": {
   "display_name": "Python 3 (ipykernel)",
   "language": "python",
   "name": "python3"
  },
  "language_info": {
   "codemirror_mode": {
    "name": "ipython",
    "version": 3
   },
   "file_extension": ".py",
   "mimetype": "text/x-python",
   "name": "python",
   "nbconvert_exporter": "python",
   "pygments_lexer": "ipython3",
   "version": "3.11.5"
  }
 },
 "nbformat": 4,
 "nbformat_minor": 5
}
