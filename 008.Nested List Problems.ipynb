{
 "cells": [
  {
   "cell_type": "markdown",
   "id": "83648228",
   "metadata": {},
   "source": [
    "# Nested List Element Access"
   ]
  },
  {
   "cell_type": "code",
   "execution_count": 1,
   "id": "e025c75c",
   "metadata": {},
   "outputs": [
    {
     "name": "stdout",
     "output_type": "stream",
     "text": [
      "Element at [1][1]: 5\n",
      "Element at [2][0]: 7\n"
     ]
    }
   ],
   "source": [
    "# Taking user input for the nested list\n",
    "nested_list = [[1, 2, 3], [4, 5, 6], [7, 8, 9]]\n",
    "\n",
    "# Accessing and printing specific elements\n",
    "element1 = nested_list[1][1]\n",
    "element2 = nested_list[2][0]\n",
    "\n",
    "print(\"Element at [1][1]:\", element1)\n",
    "print(\"Element at [2][0]:\", element2)"
   ]
  },
  {
   "cell_type": "markdown",
   "id": "cd3fd2f1",
   "metadata": {},
   "source": [
    "# Nested List Flattening"
   ]
  },
  {
   "cell_type": "code",
   "execution_count": 2,
   "id": "a879804e",
   "metadata": {},
   "outputs": [
    {
     "name": "stdout",
     "output_type": "stream",
     "text": [
      "Flattened list: [1, 2, 3, 4, 5, [6, 7], 8, 9]\n"
     ]
    }
   ],
   "source": [
    "# Taking user input for the nested list\n",
    "nested_list = [[1, 2, 3], [4, 5, [6, 7]], [8, 9]]\n",
    "\n",
    "# Flattening the nested list\n",
    "flat_list = [item for sublist in nested_list for item in sublist]\n",
    "\n",
    "print(\"Flattened list:\", flat_list)"
   ]
  },
  {
   "cell_type": "markdown",
   "id": "96f32a48",
   "metadata": {},
   "source": [
    "# Nested List Sorting"
   ]
  },
  {
   "cell_type": "code",
   "execution_count": 3,
   "id": "3f6db701",
   "metadata": {},
   "outputs": [
    {
     "name": "stdout",
     "output_type": "stream",
     "text": [
      "Sorted nested list: [[3, 1, 4], [6, 5, 3], [1, 5, 9, 2]]\n"
     ]
    }
   ],
   "source": [
    "# Taking user input for the nested list\n",
    "nested_list = [[3, 1, 4], [1, 5, 9, 2], [6, 5, 3]]\n",
    "\n",
    "# Sorting the sublists based on their lengths\n",
    "sorted_nested_list = sorted(nested_list, key=len)\n",
    "\n",
    "print(\"Sorted nested list:\", sorted_nested_list)"
   ]
  },
  {
   "cell_type": "markdown",
   "id": "e1726b6b",
   "metadata": {},
   "source": [
    "# List of Tuples Conversion"
   ]
  },
  {
   "cell_type": "code",
   "execution_count": 4,
   "id": "ebbbc05e",
   "metadata": {},
   "outputs": [
    {
     "name": "stdout",
     "output_type": "stream",
     "text": [
      "List of x-coordinates: [1, 3, 5]\n",
      "List of y-coordinates: [2, 4, 6]\n"
     ]
    }
   ],
   "source": [
    "# Taking user input for the nested list of tuples\n",
    "nested_list = [(1, 2), (3, 4), (5, 6)]\n",
    "\n",
    "# Converting it into a list of x-coordinates and y-coordinates\n",
    "x_coordinates = [x for x, y in nested_list]\n",
    "y_coordinates = [y for x, y in nested_list]\n",
    "\n",
    "print(\"List of x-coordinates:\", x_coordinates)\n",
    "print(\"List of y-coordinates:\", y_coordinates)"
   ]
  },
  {
   "cell_type": "markdown",
   "id": "718f9d2d",
   "metadata": {},
   "source": [
    " # Matrix Transpose"
   ]
  },
  {
   "cell_type": "code",
   "execution_count": 5,
   "id": "bb1295da",
   "metadata": {},
   "outputs": [
    {
     "name": "stdout",
     "output_type": "stream",
     "text": [
      "[1, 4, 7]\n",
      "[2, 5, 8]\n",
      "[3, 6, 9]\n"
     ]
    }
   ],
   "source": [
    "# Taking user input for the matrix represented as a nested list\n",
    "matrix = [[1, 2, 3], [4, 5, 6], [7, 8, 9]]\n",
    "\n",
    "# Transposing the matrix\n",
    "transposed_matrix = [[matrix[j][i] for j in range(3)] for i in range(3)]\n",
    "\n",
    "# Printing the transposed matrix\n",
    "for row in transposed_matrix:\n",
    "    print(row)"
   ]
  },
  {
   "cell_type": "markdown",
   "id": "62a81fc0",
   "metadata": {},
   "source": [
    "# Nested List Concatenation"
   ]
  },
  {
   "cell_type": "code",
   "execution_count": 6,
   "id": "0854ff58",
   "metadata": {},
   "outputs": [
    {
     "name": "stdout",
     "output_type": "stream",
     "text": [
      "Concatenated flat list: [1, 2, 3, 4, 5, 6, 7, 8]\n"
     ]
    }
   ],
   "source": [
    "# Taking user input for the list of nested lists\n",
    "list_of_lists = [[1, 2, 3], [4, 5], [6, 7, 8]]\n",
    "\n",
    "# Concatenating sublists into a single flat list\n",
    "flat_list = [item for sublist in list_of_lists for item in sublist]\n",
    "\n",
    "print(\"Concatenated flat list:\", flat_list)"
   ]
  },
  {
   "cell_type": "markdown",
   "id": "e2584d6b",
   "metadata": {},
   "source": [
    "# Count Even Numbers"
   ]
  },
  {
   "cell_type": "code",
   "execution_count": 7,
   "id": "443a76b3",
   "metadata": {},
   "outputs": [
    {
     "name": "stdout",
     "output_type": "stream",
     "text": [
      "Number of even numbers: 5\n"
     ]
    }
   ],
   "source": [
    "# Taking user input for the nested list\n",
    "nested_list = [[1, 2, 3], [4, 5, 6], [7, 8, 9, 10]]\n",
    "\n",
    "# Counting the number of even numbers\n",
    "even_count = sum(num % 2 == 0 for sublist in nested_list for num in sublist)\n",
    "\n",
    "print(\"Number of even numbers:\", even_count)"
   ]
  },
  {
   "cell_type": "markdown",
   "id": "094f16cd",
   "metadata": {},
   "source": [
    "# Maximum Element in Nested List"
   ]
  },
  {
   "cell_type": "code",
   "execution_count": 8,
   "id": "8fb07b19",
   "metadata": {},
   "outputs": [
    {
     "name": "stdout",
     "output_type": "stream",
     "text": [
      "Maximum element: 9\n"
     ]
    }
   ],
   "source": [
    "# Taking user input for the nested list\n",
    "nested_list = [[3, 7, 2], [8, 5, 1], [9, 4, 6]]\n",
    "\n",
    "# Finding the maximum element\n",
    "max_element = max(max(sublist) for sublist in nested_list)\n",
    "\n",
    "print(\"Maximum element:\", max_element)"
   ]
  },
  {
   "cell_type": "markdown",
   "id": "d835b712",
   "metadata": {},
   "source": [
    "# Diagonal Sum of Matrix"
   ]
  },
  {
   "cell_type": "code",
   "execution_count": 9,
   "id": "72c42b39",
   "metadata": {},
   "outputs": [
    {
     "name": "stdout",
     "output_type": "stream",
     "text": [
      "Diagonal sum: 15\n"
     ]
    }
   ],
   "source": [
    "# Taking user input for the square matrix represented as a nested list\n",
    "matrix = [[1, 2, 3], [4, 5, 6], [7, 8, 9]]\n",
    "\n",
    "# Calculating the sum of the elements in the main diagonal\n",
    "diagonal_sum = sum(matrix[i][i] for i in range(len(matrix)))\n",
    "\n",
    "print(\"Diagonal sum:\", diagonal_sum)"
   ]
  },
  {
   "cell_type": "markdown",
   "id": "5f7f1b95",
   "metadata": {},
   "source": [
    " # Nested List Element Search"
   ]
  },
  {
   "cell_type": "code",
   "execution_count": 10,
   "id": "4fb2b093",
   "metadata": {},
   "outputs": [
    {
     "name": "stdout",
     "output_type": "stream",
     "text": [
      "Enter the element to search: 1\n",
      "Element found at position (0, 0)\n"
     ]
    }
   ],
   "source": [
    "# Taking user input for the nested list\n",
    "nested_list = [[1, 2, 3], [4, 5, 6], [7, 8, 9]]\n",
    "\n",
    "# Taking user input for the element to search\n",
    "element_to_search = int(input(\"Enter the element to search: \"))\n",
    "\n",
    "# Searching for the element and returning its position\n",
    "for i, sublist in enumerate(nested_list):\n",
    "    if element_to_search in sublist:\n",
    "        j = sublist.index(element_to_search)\n",
    "        print(f\"Element found at position ({i}, {j})\")\n",
    "        break\n",
    "else:\n",
    "    print(\"Element not found in the nested list.\")"
   ]
  },
  {
   "cell_type": "code",
   "execution_count": null,
   "id": "5b654b1e",
   "metadata": {},
   "outputs": [],
   "source": []
  }
 ],
 "metadata": {
  "kernelspec": {
   "display_name": "Python 3 (ipykernel)",
   "language": "python",
   "name": "python3"
  },
  "language_info": {
   "codemirror_mode": {
    "name": "ipython",
    "version": 3
   },
   "file_extension": ".py",
   "mimetype": "text/x-python",
   "name": "python",
   "nbconvert_exporter": "python",
   "pygments_lexer": "ipython3",
   "version": "3.11.5"
  }
 },
 "nbformat": 4,
 "nbformat_minor": 5
}
