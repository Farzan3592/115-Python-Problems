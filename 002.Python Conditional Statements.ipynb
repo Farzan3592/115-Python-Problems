{
 "cells": [
  {
   "cell_type": "markdown",
   "id": "5461ced1",
   "metadata": {},
   "source": [
    "# Positive, Negative, or Zero"
   ]
  },
  {
   "cell_type": "code",
   "execution_count": 1,
   "id": "efa61408",
   "metadata": {},
   "outputs": [
    {
     "name": "stdout",
     "output_type": "stream",
     "text": [
      "Enter a number: -12\n",
      "The number is negative.\n"
     ]
    }
   ],
   "source": [
    "number = float(input(\"Enter a number: \"))\n",
    "if number > 0:\n",
    "    print(\"The number is positive.\")\n",
    "elif number < 0:\n",
    "    print(\"The number is negative.\")\n",
    "else:\n",
    "    print(\"The number is zero.\")"
   ]
  },
  {
   "cell_type": "markdown",
   "id": "83dfdf0c",
   "metadata": {},
   "source": [
    "# Largest of Three Numbers"
   ]
  },
  {
   "cell_type": "code",
   "execution_count": 2,
   "id": "92073eb7",
   "metadata": {},
   "outputs": [
    {
     "name": "stdout",
     "output_type": "stream",
     "text": [
      "Enter the first number: 12\n",
      "Enter the second number: 13\n",
      "Enter the third number: 14\n",
      "The largest number is: 14.0\n"
     ]
    }
   ],
   "source": [
    "num1 = float(input(\"Enter the first number: \"))\n",
    "num2 = float(input(\"Enter the second number: \"))\n",
    "num3 = float(input(\"Enter the third number: \"))\n",
    "largest = max(num1, num2, num3)\n",
    "print(\"The largest number is:\", largest)"
   ]
  },
  {
   "cell_type": "markdown",
   "id": "42f8206d",
   "metadata": {},
   "source": [
    "#  Leap Year Checker"
   ]
  },
  {
   "cell_type": "code",
   "execution_count": 3,
   "id": "cd72088c",
   "metadata": {},
   "outputs": [
    {
     "name": "stdout",
     "output_type": "stream",
     "text": [
      "Enter a year: 2021\n",
      "Not a leap year\n"
     ]
    }
   ],
   "source": [
    "year = int(input(\"Enter a year: \"))\n",
    "if (year % 4 == 0 and year % 100 != 0) or (year % 400 == 0):\n",
    "    print(\"Leap year\")\n",
    "else:\n",
    "    print(\"Not a leap year\")"
   ]
  },
  {
   "cell_type": "markdown",
   "id": "6707eac9",
   "metadata": {},
   "source": [
    "#  Grades Classification"
   ]
  },
  {
   "cell_type": "code",
   "execution_count": 4,
   "id": "360c060c",
   "metadata": {},
   "outputs": [
    {
     "name": "stdout",
     "output_type": "stream",
     "text": [
      "Enter the student's percentage: 55\n",
      "Fail\n"
     ]
    }
   ],
   "source": [
    "percentage = float(input(\"Enter the student's percentage: \"))\n",
    "if percentage >= 90:\n",
    "    print(\"Grade: A+\")\n",
    "elif 80 <= percentage < 90:\n",
    "    print(\"Grade: A\")\n",
    "elif 70 <= percentage < 80:\n",
    "    print(\"Grade: B\")\n",
    "elif 60 <= percentage < 70:\n",
    "    print(\"Grade: C\")\n",
    "else:\n",
    "    print(\"Fail\")"
   ]
  },
  {
   "cell_type": "markdown",
   "id": "250d812b",
   "metadata": {},
   "source": [
    "# Vowel or Consonant"
   ]
  },
  {
   "cell_type": "code",
   "execution_count": 5,
   "id": "83228785",
   "metadata": {},
   "outputs": [
    {
     "name": "stdout",
     "output_type": "stream",
     "text": [
      "Enter a single character: b\n",
      "The character is a consonant.\n"
     ]
    }
   ],
   "source": [
    "character = input(\"Enter a single character: \")\n",
    "if character.lower() in 'aeiou':\n",
    "    print(\"The character is a vowel.\")\n",
    "else:\n",
    "    print(\"The character is a consonant.\")"
   ]
  },
  {
   "cell_type": "markdown",
   "id": "9f3f8fee",
   "metadata": {},
   "source": [
    "# Time Classification"
   ]
  },
  {
   "cell_type": "code",
   "execution_count": 10,
   "id": "133930a3",
   "metadata": {},
   "outputs": [
    {
     "name": "stdout",
     "output_type": "stream",
     "text": [
      "Enter the time in hours (24-hour format): 16\n",
      "Good Afternoon\n"
     ]
    }
   ],
   "source": [
    "time = int(input(\"Enter the time in hours (24-hour format): \"))\n",
    "if 0 <= time < 12:\n",
    "    print(\"Good Morning\")\n",
    "elif 12 <= time < 17:\n",
    "    print(\"Good Afternoon\")\n",
    "elif 17 <= time < 21:\n",
    "    print(\"Good Evening\")\n",
    "else:\n",
    "    print(\"Good Night\")"
   ]
  },
  {
   "cell_type": "markdown",
   "id": "09279381",
   "metadata": {},
   "source": [
    "# Triangle Type Checker"
   ]
  },
  {
   "cell_type": "code",
   "execution_count": 11,
   "id": "5b1c135b",
   "metadata": {},
   "outputs": [
    {
     "name": "stdout",
     "output_type": "stream",
     "text": [
      "Enter the length of the first side: 12\n",
      "Enter the length of the second side: 5\n",
      "Enter the length of the third side: 11\n",
      "Scalene Triangle\n"
     ]
    }
   ],
   "source": [
    "side1 = float(input(\"Enter the length of the first side: \"))\n",
    "side2 = float(input(\"Enter the length of the second side: \"))\n",
    "side3 = float(input(\"Enter the length of the third side: \"))\n",
    "if side1 == side2 == side3:\n",
    "    print(\"Equilateral Triangle\")\n",
    "elif side1 == side2 or side1 == side3 or side2 == side3:\n",
    "    print(\"Isosceles Triangle\")\n",
    "else:\n",
    "    print(\"Scalene Triangle\")"
   ]
  },
  {
   "cell_type": "markdown",
   "id": "da54d7a4",
   "metadata": {},
   "source": [
    "# Quadratic Equation Solver"
   ]
  },
  {
   "cell_type": "code",
   "execution_count": 12,
   "id": "856aa999",
   "metadata": {},
   "outputs": [
    {
     "name": "stdout",
     "output_type": "stream",
     "text": [
      "Enter the coefficient a: 2\n",
      "Enter the coefficient b: 6\n",
      "Enter the coefficient c: 5\n",
      "Complex roots: -1.5 + 0.5i and -1.5 - 0.5i\n"
     ]
    }
   ],
   "source": [
    "a = float(input(\"Enter the coefficient a: \"))\n",
    "b = float(input(\"Enter the coefficient b: \"))\n",
    "c = float(input(\"Enter the coefficient c: \"))\n",
    "discriminant = b**2 - 4*a*c\n",
    "if discriminant > 0:\n",
    "    root1 = (-b + (discriminant)**0.5) / (2*a)\n",
    "    root2 = (-b - (discriminant)**0.5) / (2*a)\n",
    "    print(f\"Real roots: {root1} and {root2}\")\n",
    "elif discriminant == 0:\n",
    "    root = -b / (2*a)\n",
    "    print(f\"Real and identical root: {root}\")\n",
    "else:\n",
    "    real_part = -b / (2*a)\n",
    "    imaginary_part = (abs(discriminant)**0.5) / (2*a)\n",
    "    print(f\"Complex roots: {real_part} + {imaginary_part}i and {real_part} - {imaginary_part}i\")"
   ]
  },
  {
   "cell_type": "markdown",
   "id": "14a5c729",
   "metadata": {},
   "source": [
    "# Number Ranges"
   ]
  },
  {
   "cell_type": "code",
   "execution_count": 13,
   "id": "f28f09bc",
   "metadata": {},
   "outputs": [
    {
     "name": "stdout",
     "output_type": "stream",
     "text": [
      "Enter an integer: 100\n",
      "Number is between 51 and 100.\n"
     ]
    }
   ],
   "source": [
    "number = int(input(\"Enter an integer: \"))\n",
    "if 0 <= number <= 50:\n",
    "    print(\"Number is between 0 and 50.\")\n",
    "elif 51 <= number <= 100:\n",
    "    print(\"Number is between 51 and 100.\")\n",
    "elif 101 <= number <= 150:\n",
    "    print(\"Number is between 101 and 150.\")\n",
    "else:\n",
    "    print(\"Number is above 150.\")"
   ]
  },
  {
   "cell_type": "code",
   "execution_count": null,
   "id": "80126b16",
   "metadata": {},
   "outputs": [],
   "source": []
  }
 ],
 "metadata": {
  "kernelspec": {
   "display_name": "Python 3 (ipykernel)",
   "language": "python",
   "name": "python3"
  },
  "language_info": {
   "codemirror_mode": {
    "name": "ipython",
    "version": 3
   },
   "file_extension": ".py",
   "mimetype": "text/x-python",
   "name": "python",
   "nbconvert_exporter": "python",
   "pygments_lexer": "ipython3",
   "version": "3.11.5"
  }
 },
 "nbformat": 4,
 "nbformat_minor": 5
}
