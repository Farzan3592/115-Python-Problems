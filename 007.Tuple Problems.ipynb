{
 "cells": [
  {
   "cell_type": "markdown",
   "id": "3d9ed5e1",
   "metadata": {},
   "source": [
    "# Tuple Concatenation"
   ]
  },
  {
   "cell_type": "code",
   "execution_count": 1,
   "id": "86546c42",
   "metadata": {},
   "outputs": [
    {
     "name": "stdout",
     "output_type": "stream",
     "text": [
      "Enter elements of the first tuple separated by space: 1 2 3\n",
      "Enter elements of the second tuple separated by space: 4 5 6\n",
      "Concatenated tuple: ('1', '2', '3', '4', '5', '6')\n"
     ]
    }
   ],
   "source": [
    "# Taking user input for the two tuples\n",
    "tuple1 = tuple(input(\"Enter elements of the first tuple separated by space: \").split())\n",
    "tuple2 = tuple(input(\"Enter elements of the second tuple separated by space: \").split())\n",
    "\n",
    "# Concatenating two tuples\n",
    "concatenated_tuple = tuple1 + tuple2\n",
    "\n",
    "print(\"Concatenated tuple:\", concatenated_tuple)"
   ]
  },
  {
   "cell_type": "markdown",
   "id": "6af3c36a",
   "metadata": {},
   "source": [
    "# Tuple Unpacking"
   ]
  },
  {
   "cell_type": "code",
   "execution_count": 2,
   "id": "71d508cf",
   "metadata": {},
   "outputs": [
    {
     "name": "stdout",
     "output_type": "stream",
     "text": [
      "Enter three elements separated by space: 10 20 25\n",
      "Unpacked values: x = 10 , y = 20 , z = 25\n"
     ]
    }
   ],
   "source": [
    "# Taking user input for the tuple with three elements\n",
    "input_tuple = tuple(input(\"Enter three elements separated by space: \").split())\n",
    "\n",
    "# Unpacking the tuple\n",
    "x, y, z = input_tuple\n",
    "\n",
    "print(\"Unpacked values: x =\", x, \", y =\", y, \", z =\", z)"
   ]
  },
  {
   "cell_type": "markdown",
   "id": "097bf775",
   "metadata": {},
   "source": [
    "# Tuple Sorting"
   ]
  },
  {
   "cell_type": "code",
   "execution_count": 4,
   "id": "eec01d8c",
   "metadata": {},
   "outputs": [
    {
     "name": "stdout",
     "output_type": "stream",
     "text": [
      "Enter elements of the tuple separated by space: 1 4 3 2 \n",
      "Sorted tuple: (1, 2, 3, 4)\n"
     ]
    }
   ],
   "source": [
    "# Taking user input for the tuple of integers\n",
    "tuple_of_integers = tuple(map(int, input(\"Enter elements of the tuple separated by space: \").split()))\n",
    "\n",
    "# Sorting the tuple in ascending order\n",
    "sorted_tuple = tuple(sorted(tuple_of_integers))\n",
    "print(\"Sorted tuple:\", sorted_tuple)"
   ]
  },
  {
   "cell_type": "markdown",
   "id": "7eab5277",
   "metadata": {},
   "source": [
    "# Tuple Frequency Count"
   ]
  },
  {
   "cell_type": "code",
   "execution_count": 5,
   "id": "0b1728ae",
   "metadata": {},
   "outputs": [
    {
     "name": "stdout",
     "output_type": "stream",
     "text": [
      "Enter elements of the tuple separated by space: a bb a cd ee cd ff\n",
      "Enter the element to count: cd\n",
      "Count of cd: 2\n"
     ]
    }
   ],
   "source": [
    "# Taking user input for the tuple\n",
    "input_tuple = tuple(input(\"Enter elements of the tuple separated by space: \").split())\n",
    "\n",
    "# Taking user input for the specific element to count\n",
    "element_to_count = input(\"Enter the element to count: \")\n",
    "\n",
    "# Counting occurrences of the specific element\n",
    "element_count = input_tuple.count(element_to_count)\n",
    "print(f\"Count of {element_to_count}: {element_count}\")"
   ]
  },
  {
   "cell_type": "markdown",
   "id": "4f4c6bc8",
   "metadata": {},
   "source": [
    "# Tuple to List"
   ]
  },
  {
   "cell_type": "code",
   "execution_count": 6,
   "id": "5221b068",
   "metadata": {},
   "outputs": [
    {
     "name": "stdout",
     "output_type": "stream",
     "text": [
      "Enter elements of the tuple separated by space: 4 7 2 11 29\n",
      "Converted list: ['4', '7', '2', '11', '29']\n"
     ]
    }
   ],
   "source": [
    "# Taking user input for the tuple\n",
    "input_tuple = tuple(input(\"Enter elements of the tuple separated by space: \").split())\n",
    "\n",
    "# Converting the tuple to a list\n",
    "converted_list = list(input_tuple)\n",
    "print(\"Converted list:\", converted_list)"
   ]
  },
  {
   "cell_type": "markdown",
   "id": "e85918b9",
   "metadata": {},
   "source": [
    "# Tuple Reversal"
   ]
  },
  {
   "cell_type": "code",
   "execution_count": 7,
   "id": "19655464",
   "metadata": {},
   "outputs": [
    {
     "name": "stdout",
     "output_type": "stream",
     "text": [
      "Enter elements of the tuple separated by space: 1 2 3 4 5\n",
      "Reversed tuple: ('5', '4', '3', '2', '1')\n"
     ]
    }
   ],
   "source": [
    "# Taking user input for the tuple\n",
    "input_tuple = tuple(input(\"Enter elements of the tuple separated by space: \").split())\n",
    "\n",
    "# Reversing the tuple without using built-in functions\n",
    "reversed_tuple = tuple(input_tuple[::-1])\n",
    "print(\"Reversed tuple:\", reversed_tuple)"
   ]
  },
  {
   "cell_type": "markdown",
   "id": "6b9f5a38",
   "metadata": {},
   "source": [
    "# Tuple Slicing"
   ]
  },
  {
   "cell_type": "code",
   "execution_count": 8,
   "id": "4c142a52",
   "metadata": {},
   "outputs": [
    {
     "name": "stdout",
     "output_type": "stream",
     "text": [
      "Enter elements of the tuple separated by space: 10 2 01 40 5\n",
      "Enter the start index for the slice: 1\n",
      "Enter the end index for the slice: 4\n",
      "Sliced tuple: ('2', '01', '40')\n"
     ]
    }
   ],
   "source": [
    "# Taking user input for the tuple\n",
    "input_tuple = tuple(input(\"Enter elements of the tuple separated by space: \").split())\n",
    "\n",
    "# Taking user input for the slice indices\n",
    "start = int(input(\"Enter the start index for the slice: \"))\n",
    "end = int(input(\"Enter the end index for the slice: \"))\n",
    "\n",
    "# Extracting a slice of elements from the tuple\n",
    "sliced_tuple = input_tuple[start:end]\n",
    "print(\"Sliced tuple:\", sliced_tuple)"
   ]
  },
  {
   "cell_type": "markdown",
   "id": "1db70957",
   "metadata": {},
   "source": [
    "# Tuple Operations"
   ]
  },
  {
   "cell_type": "code",
   "execution_count": 9,
   "id": "4942a288",
   "metadata": {},
   "outputs": [
    {
     "name": "stdout",
     "output_type": "stream",
     "text": [
      "Enter elements of the first tuple separated by space: 1 2 3\n",
      "Enter elements of the second tuple separated by space: 4 5 6\n",
      "Element-wise Addition: (5, 7, 9)\n",
      "Element-wise Subtraction: (-3, -3, -3)\n",
      "Element-wise Multiplication: (4, 10, 18)\n"
     ]
    }
   ],
   "source": [
    "# Taking user input for the two tuples\n",
    "tuple1 = tuple(map(int, input(\"Enter elements of the first tuple separated by space: \").split()))\n",
    "tuple2 = tuple(map(int, input(\"Enter elements of the second tuple separated by space: \").split()))\n",
    "\n",
    "# Element-wise addition, subtraction, and multiplication\n",
    "addition_tuple = tuple(x + y for x, y in zip(tuple1, tuple2))\n",
    "subtraction_tuple = tuple(x - y for x, y in zip(tuple1, tuple2))\n",
    "multiplication_tuple = tuple(x * y for x, y in zip(tuple1, tuple2))\n",
    "\n",
    "print(\"Element-wise Addition:\", addition_tuple)\n",
    "print(\"Element-wise Subtraction:\", subtraction_tuple)\n",
    "print(\"Element-wise Multiplication:\", multiplication_tuple)"
   ]
  },
  {
   "cell_type": "markdown",
   "id": "9cc2ab82",
   "metadata": {},
   "source": [
    "# Tuple Membership Test"
   ]
  },
  {
   "cell_type": "code",
   "execution_count": 10,
   "id": "fe84a289",
   "metadata": {},
   "outputs": [
    {
     "name": "stdout",
     "output_type": "stream",
     "text": [
      "Enter elements of the tuple separated by space: a b c d e\n",
      "Enter the element to test for membership: f\n",
      "Is f in the tuple? False\n"
     ]
    }
   ],
   "source": [
    "# Taking user input for the tuple\n",
    "input_tuple = tuple(input(\"Enter elements of the tuple separated by space: \").split())\n",
    "\n",
    "# Taking user input for the element to test\n",
    "element_to_test = input(\"Enter the element to test for membership: \")\n",
    "\n",
    "# Checking if the element exists in the tuple\n",
    "is_member = element_to_test in input_tuple\n",
    "print(f\"Is {element_to_test} in the tuple? {is_member}\")"
   ]
  },
  {
   "cell_type": "markdown",
   "id": "0c2cef0a",
   "metadata": {},
   "source": [
    "# Tuple Packing"
   ]
  },
  {
   "cell_type": "code",
   "execution_count": 11,
   "id": "e5bd2569",
   "metadata": {},
   "outputs": [
    {
     "name": "stdout",
     "output_type": "stream",
     "text": [
      "Enter the value for x: 1\n",
      "Enter the value for y: 2\n",
      "Enter the value for z: 3\n",
      "Packed tuple: ('1', '2', '3')\n"
     ]
    }
   ],
   "source": [
    "# Taking user input for three variables\n",
    "x = input(\"Enter the value for x: \")\n",
    "y = input(\"Enter the value for y: \")\n",
    "z = input(\"Enter the value for z: \")\n",
    "\n",
    "# Packing variables into a tuple\n",
    "packed_tuple = (x, y, z)\n",
    "print(\"Packed tuple:\", packed_tuple)"
   ]
  },
  {
   "cell_type": "code",
   "execution_count": null,
   "id": "b7691585",
   "metadata": {},
   "outputs": [],
   "source": []
  }
 ],
 "metadata": {
  "kernelspec": {
   "display_name": "Python 3 (ipykernel)",
   "language": "python",
   "name": "python3"
  },
  "language_info": {
   "codemirror_mode": {
    "name": "ipython",
    "version": 3
   },
   "file_extension": ".py",
   "mimetype": "text/x-python",
   "name": "python",
   "nbconvert_exporter": "python",
   "pygments_lexer": "ipython3",
   "version": "3.11.5"
  }
 },
 "nbformat": 4,
 "nbformat_minor": 5
}
